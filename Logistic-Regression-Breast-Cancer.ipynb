{
 "cells": [
  {
   "cell_type": "markdown",
   "id": "0a527906-e2a5-4a14-8b81-ed000ae2ce32",
   "metadata": {},
   "source": [
    "# Logistic-Regression-Breast-Cancer"
   ]
  },
  {
   "cell_type": "markdown",
   "id": "c9e3695b-62c8-4bfd-9a51-2f9ba59a56e6",
   "metadata": {},
   "source": [
    "## Import Software Libraries"
   ]
  },
  {
   "cell_type": "code",
   "execution_count": 1,
   "id": "3f17d8df-71c6-4350-8f6f-5a7f7858f000",
   "metadata": {
    "scrolled": true
   },
   "outputs": [
    {
     "name": "stdout",
     "output_type": "stream",
     "text": [
      "Libraries used in this project:\n",
      "- NumPy 1.22.3\n",
      "- pandas 1.4.1\n",
      "- scikit-learn 1.2.2\n",
      "- Matplotlib 3.8.4\n",
      "- Seaborn 0.13.0\n",
      "- Python 3.9.20 (main, Oct  3 2024, 02:27:54) \n",
      "[Clang 14.0.6 ]\n",
      "\n",
      "- Matplotlib 3.8.4\n",
      "\n",
      "\n",
      "Summary of software packages complete.\n",
      "\n"
     ]
    }
   ],
   "source": [
    "import warnings  # Suppress warnings\n",
    "\n",
    "warnings.filterwarnings(\"ignore\")\n",
    "\n",
    "import os  # Interact with the operating system.\n",
    "import sys  # Read system parameters.\n",
    "from io import StringIO  # Read and write strings as files\n",
    "from time import time\n",
    "from urllib.parse import urlparse  # Parse URL and extract path component\n",
    "\n",
    "import matplotlib  # Create charts.\n",
    "import matplotlib.pyplot as plt\n",
    "import numpy as np  # Work with multi-dimensional arrays and matrices.\n",
    "import pandas as pd  # Manipulate and analyze data frames.\n",
    "import requests  # Send HTTP requests\n",
    "import seaborn as sns  # Streamline charting.\n",
    "import sklearn  # Perform feature engineering and machine learning.\n",
    "import statsmodels\n",
    "from scipy.stats import zscore\n",
    "from sklearn import datasets  # ML datasets\n",
    "from sklearn.dummy import DummyClassifier\n",
    "from sklearn.linear_model import LogisticRegression\n",
    "from sklearn.metrics import (\n",
    "    accuracy_score,\n",
    "    classification_report,\n",
    "    confusion_matrix,\n",
    "    f1_score,\n",
    "    precision_score,\n",
    "    recall_score,\n",
    "    roc_auc_score,\n",
    "    roc_curve,\n",
    ")\n",
    "from sklearn.model_selection import train_test_split\n",
    "\n",
    "# Summarize software libraries used.\n",
    "print(\"Libraries used in this project:\")\n",
    "print(\"- NumPy {}\".format(np.__version__))\n",
    "print(\"- pandas {}\".format(pd.__version__))\n",
    "print(\"- scikit-learn {}\".format(sklearn.__version__))\n",
    "print(\"- Matplotlib {}\".format(matplotlib.__version__))\n",
    "print(\"- Seaborn {}\".format(sns.__version__))\n",
    "print(\"- Python {}\\n\".format(sys.version))\n",
    "print(\"- Matplotlib {}\\n\".format(matplotlib.__version__))\n",
    "print(\"\\nSummary of software packages complete.\\n\")"
   ]
  },
  {
   "cell_type": "markdown",
   "id": "f55a6d8c-b79c-401b-aaa2-511dbccd5227",
   "metadata": {},
   "source": [
    "# Load the Dataset.\n",
    "\n",
    "The first step is to load the data and transform the array into a pandas data frame."
   ]
  },
  {
   "cell_type": "code",
   "execution_count": 2,
   "id": "487ec6b4-18e4-4af3-8b60-f35f68777c0c",
   "metadata": {},
   "outputs": [
    {
     "name": "stdout",
     "output_type": "stream",
     "text": [
      "Loaded 569 records from breast_cancer_data.csv.\n"
     ]
    }
   ],
   "source": [
    "# Capture URL\n",
    "url = \"https://raw.githubusercontent.com/tyrantdavis/datasets/refs/heads/main/breast_cancer_data.csv\"\n",
    "request = requests.get(url).text\n",
    "\n",
    "# Save as data frame and copy\n",
    "cancer = pd.read_csv(StringIO(request))\n",
    "df = cancer.copy()\n",
    "\n",
    "# Parse URL\n",
    "parsed_url = urlparse(url)\n",
    "path = parsed_url.path\n",
    "filename = os.path.basename(path)\n",
    "\n",
    "\n",
    "print(f\"Loaded {len(df)} records from {filename}.\")"
   ]
  },
  {
   "cell_type": "markdown",
   "id": "eae673e6-23cd-4551-86b9-0eecd43b66d7",
   "metadata": {},
   "source": [
    "## Get Acquainted with the Dataset\n",
    "Examine the data types and check for any missing entries."
   ]
  },
  {
   "cell_type": "markdown",
   "id": "e01e321f-a375-4cf6-a0a3-db52d43f808a",
   "metadata": {},
   "source": [
    "**Examine the first 5 observations**"
   ]
  },
  {
   "cell_type": "code",
   "execution_count": 3,
   "id": "0d985821-f245-47e7-be4b-01b241bb4deb",
   "metadata": {},
   "outputs": [
    {
     "data": {
      "text/html": [
       "<div>\n",
       "<style scoped>\n",
       "    .dataframe tbody tr th:only-of-type {\n",
       "        vertical-align: middle;\n",
       "    }\n",
       "\n",
       "    .dataframe tbody tr th {\n",
       "        vertical-align: top;\n",
       "    }\n",
       "\n",
       "    .dataframe thead th {\n",
       "        text-align: right;\n",
       "    }\n",
       "</style>\n",
       "<table border=\"1\" class=\"dataframe\">\n",
       "  <thead>\n",
       "    <tr style=\"text-align: right;\">\n",
       "      <th></th>\n",
       "      <th>id</th>\n",
       "      <th>diagnosis</th>\n",
       "      <th>radius_mean</th>\n",
       "      <th>texture_mean</th>\n",
       "      <th>perimeter_mean</th>\n",
       "      <th>area_mean</th>\n",
       "      <th>smoothness_mean</th>\n",
       "      <th>compactness_mean</th>\n",
       "      <th>concavity_mean</th>\n",
       "      <th>concave points_mean</th>\n",
       "      <th>...</th>\n",
       "      <th>texture_worst</th>\n",
       "      <th>perimeter_worst</th>\n",
       "      <th>area_worst</th>\n",
       "      <th>smoothness_worst</th>\n",
       "      <th>compactness_worst</th>\n",
       "      <th>concavity_worst</th>\n",
       "      <th>concave points_worst</th>\n",
       "      <th>symmetry_worst</th>\n",
       "      <th>fractal_dimension_worst</th>\n",
       "      <th>Unnamed: 32</th>\n",
       "    </tr>\n",
       "  </thead>\n",
       "  <tbody>\n",
       "    <tr>\n",
       "      <th>0</th>\n",
       "      <td>842302</td>\n",
       "      <td>M</td>\n",
       "      <td>17.99</td>\n",
       "      <td>10.38</td>\n",
       "      <td>122.80</td>\n",
       "      <td>1001.0</td>\n",
       "      <td>0.11840</td>\n",
       "      <td>0.27760</td>\n",
       "      <td>0.3001</td>\n",
       "      <td>0.14710</td>\n",
       "      <td>...</td>\n",
       "      <td>17.33</td>\n",
       "      <td>184.60</td>\n",
       "      <td>2019.0</td>\n",
       "      <td>0.1622</td>\n",
       "      <td>0.6656</td>\n",
       "      <td>0.7119</td>\n",
       "      <td>0.2654</td>\n",
       "      <td>0.4601</td>\n",
       "      <td>0.11890</td>\n",
       "      <td>NaN</td>\n",
       "    </tr>\n",
       "    <tr>\n",
       "      <th>1</th>\n",
       "      <td>842517</td>\n",
       "      <td>M</td>\n",
       "      <td>20.57</td>\n",
       "      <td>17.77</td>\n",
       "      <td>132.90</td>\n",
       "      <td>1326.0</td>\n",
       "      <td>0.08474</td>\n",
       "      <td>0.07864</td>\n",
       "      <td>0.0869</td>\n",
       "      <td>0.07017</td>\n",
       "      <td>...</td>\n",
       "      <td>23.41</td>\n",
       "      <td>158.80</td>\n",
       "      <td>1956.0</td>\n",
       "      <td>0.1238</td>\n",
       "      <td>0.1866</td>\n",
       "      <td>0.2416</td>\n",
       "      <td>0.1860</td>\n",
       "      <td>0.2750</td>\n",
       "      <td>0.08902</td>\n",
       "      <td>NaN</td>\n",
       "    </tr>\n",
       "    <tr>\n",
       "      <th>2</th>\n",
       "      <td>84300903</td>\n",
       "      <td>M</td>\n",
       "      <td>19.69</td>\n",
       "      <td>21.25</td>\n",
       "      <td>130.00</td>\n",
       "      <td>1203.0</td>\n",
       "      <td>0.10960</td>\n",
       "      <td>0.15990</td>\n",
       "      <td>0.1974</td>\n",
       "      <td>0.12790</td>\n",
       "      <td>...</td>\n",
       "      <td>25.53</td>\n",
       "      <td>152.50</td>\n",
       "      <td>1709.0</td>\n",
       "      <td>0.1444</td>\n",
       "      <td>0.4245</td>\n",
       "      <td>0.4504</td>\n",
       "      <td>0.2430</td>\n",
       "      <td>0.3613</td>\n",
       "      <td>0.08758</td>\n",
       "      <td>NaN</td>\n",
       "    </tr>\n",
       "    <tr>\n",
       "      <th>3</th>\n",
       "      <td>84348301</td>\n",
       "      <td>M</td>\n",
       "      <td>11.42</td>\n",
       "      <td>20.38</td>\n",
       "      <td>77.58</td>\n",
       "      <td>386.1</td>\n",
       "      <td>0.14250</td>\n",
       "      <td>0.28390</td>\n",
       "      <td>0.2414</td>\n",
       "      <td>0.10520</td>\n",
       "      <td>...</td>\n",
       "      <td>26.50</td>\n",
       "      <td>98.87</td>\n",
       "      <td>567.7</td>\n",
       "      <td>0.2098</td>\n",
       "      <td>0.8663</td>\n",
       "      <td>0.6869</td>\n",
       "      <td>0.2575</td>\n",
       "      <td>0.6638</td>\n",
       "      <td>0.17300</td>\n",
       "      <td>NaN</td>\n",
       "    </tr>\n",
       "    <tr>\n",
       "      <th>4</th>\n",
       "      <td>84358402</td>\n",
       "      <td>M</td>\n",
       "      <td>20.29</td>\n",
       "      <td>14.34</td>\n",
       "      <td>135.10</td>\n",
       "      <td>1297.0</td>\n",
       "      <td>0.10030</td>\n",
       "      <td>0.13280</td>\n",
       "      <td>0.1980</td>\n",
       "      <td>0.10430</td>\n",
       "      <td>...</td>\n",
       "      <td>16.67</td>\n",
       "      <td>152.20</td>\n",
       "      <td>1575.0</td>\n",
       "      <td>0.1374</td>\n",
       "      <td>0.2050</td>\n",
       "      <td>0.4000</td>\n",
       "      <td>0.1625</td>\n",
       "      <td>0.2364</td>\n",
       "      <td>0.07678</td>\n",
       "      <td>NaN</td>\n",
       "    </tr>\n",
       "  </tbody>\n",
       "</table>\n",
       "<p>5 rows × 33 columns</p>\n",
       "</div>"
      ],
      "text/plain": [
       "         id diagnosis  radius_mean  texture_mean  perimeter_mean  area_mean  \\\n",
       "0    842302         M        17.99         10.38          122.80     1001.0   \n",
       "1    842517         M        20.57         17.77          132.90     1326.0   \n",
       "2  84300903         M        19.69         21.25          130.00     1203.0   \n",
       "3  84348301         M        11.42         20.38           77.58      386.1   \n",
       "4  84358402         M        20.29         14.34          135.10     1297.0   \n",
       "\n",
       "   smoothness_mean  compactness_mean  concavity_mean  concave points_mean  \\\n",
       "0          0.11840           0.27760          0.3001              0.14710   \n",
       "1          0.08474           0.07864          0.0869              0.07017   \n",
       "2          0.10960           0.15990          0.1974              0.12790   \n",
       "3          0.14250           0.28390          0.2414              0.10520   \n",
       "4          0.10030           0.13280          0.1980              0.10430   \n",
       "\n",
       "   ...  texture_worst  perimeter_worst  area_worst  smoothness_worst  \\\n",
       "0  ...          17.33           184.60      2019.0            0.1622   \n",
       "1  ...          23.41           158.80      1956.0            0.1238   \n",
       "2  ...          25.53           152.50      1709.0            0.1444   \n",
       "3  ...          26.50            98.87       567.7            0.2098   \n",
       "4  ...          16.67           152.20      1575.0            0.1374   \n",
       "\n",
       "   compactness_worst  concavity_worst  concave points_worst  symmetry_worst  \\\n",
       "0             0.6656           0.7119                0.2654          0.4601   \n",
       "1             0.1866           0.2416                0.1860          0.2750   \n",
       "2             0.4245           0.4504                0.2430          0.3613   \n",
       "3             0.8663           0.6869                0.2575          0.6638   \n",
       "4             0.2050           0.4000                0.1625          0.2364   \n",
       "\n",
       "   fractal_dimension_worst  Unnamed: 32  \n",
       "0                  0.11890          NaN  \n",
       "1                  0.08902          NaN  \n",
       "2                  0.08758          NaN  \n",
       "3                  0.17300          NaN  \n",
       "4                  0.07678          NaN  \n",
       "\n",
       "[5 rows x 33 columns]"
      ]
     },
     "execution_count": 3,
     "metadata": {},
     "output_type": "execute_result"
    }
   ],
   "source": [
    "df.head()"
   ]
  },
  {
   "cell_type": "markdown",
   "id": "ec3e027f-9a4a-46d2-bfd5-8e797e4dfa2a",
   "metadata": {},
   "source": [
    "**Examine the columns, data types, and check for missing values**"
   ]
  },
  {
   "cell_type": "code",
   "execution_count": 4,
   "id": "6fdaa327-93a2-4551-9b2e-c72f39cb7937",
   "metadata": {},
   "outputs": [
    {
     "name": "stdout",
     "output_type": "stream",
     "text": [
      "<class 'pandas.core.frame.DataFrame'>\n",
      "RangeIndex: 569 entries, 0 to 568\n",
      "Data columns (total 33 columns):\n",
      " #   Column                   Non-Null Count  Dtype  \n",
      "---  ------                   --------------  -----  \n",
      " 0   id                       569 non-null    int64  \n",
      " 1   diagnosis                569 non-null    object \n",
      " 2   radius_mean              569 non-null    float64\n",
      " 3   texture_mean             569 non-null    float64\n",
      " 4   perimeter_mean           569 non-null    float64\n",
      " 5   area_mean                569 non-null    float64\n",
      " 6   smoothness_mean          569 non-null    float64\n",
      " 7   compactness_mean         569 non-null    float64\n",
      " 8   concavity_mean           569 non-null    float64\n",
      " 9   concave points_mean      569 non-null    float64\n",
      " 10  symmetry_mean            569 non-null    float64\n",
      " 11  fractal_dimension_mean   569 non-null    float64\n",
      " 12  radius_se                569 non-null    float64\n",
      " 13  texture_se               569 non-null    float64\n",
      " 14  perimeter_se             569 non-null    float64\n",
      " 15  area_se                  569 non-null    float64\n",
      " 16  smoothness_se            569 non-null    float64\n",
      " 17  compactness_se           569 non-null    float64\n",
      " 18  concavity_se             569 non-null    float64\n",
      " 19  concave points_se        569 non-null    float64\n",
      " 20  symmetry_se              569 non-null    float64\n",
      " 21  fractal_dimension_se     569 non-null    float64\n",
      " 22  radius_worst             569 non-null    float64\n",
      " 23  texture_worst            569 non-null    float64\n",
      " 24  perimeter_worst          569 non-null    float64\n",
      " 25  area_worst               569 non-null    float64\n",
      " 26  smoothness_worst         569 non-null    float64\n",
      " 27  compactness_worst        569 non-null    float64\n",
      " 28  concavity_worst          569 non-null    float64\n",
      " 29  concave points_worst     569 non-null    float64\n",
      " 30  symmetry_worst           569 non-null    float64\n",
      " 31  fractal_dimension_worst  569 non-null    float64\n",
      " 32  Unnamed: 32              0 non-null      float64\n",
      "dtypes: float64(31), int64(1), object(1)\n",
      "memory usage: 146.8+ KB\n"
     ]
    }
   ],
   "source": [
    "df.info()"
   ]
  },
  {
   "cell_type": "markdown",
   "id": "201a8b32-71d0-4ccf-b786-f99ee40b0b69",
   "metadata": {},
   "source": [
    "**Spotlights** \n",
    "\n",
    "- The dataset comprises 569 rows and 33 columns in total.\n",
    "- Among these columns, 31 are designated for float values, 1 for integers, and 1 for objects.\n",
    "- The 'Unnamed: 32' column is devoid of any records, while an 'id' column is present but deemed unnecessary; both will be eliminated eventually. No other missing records are identified.\n",
    "- The name for **concave points_worst** will be altered to facilitate access to the feature through dot notation.\n",
    "- The diagnosis feature classes will be encoded and represented as 0 and 1 opposed to **B**(Benign) and **M**(Malignant)"
   ]
  },
  {
   "cell_type": "markdown",
   "id": "fbdf6ccc-9352-430f-b710-fad34fd1a4f2",
   "metadata": {},
   "source": [
    "**Verify that each observations is independent**\n",
    "\n",
    "To determine whether the count of unique IDs matches the sample size, it is essential to verify that there are no duplicate entries for patients."
   ]
  },
  {
   "cell_type": "code",
   "execution_count": 5,
   "id": "98ec1dcc-e609-4516-bce6-a83da0b0c7a9",
   "metadata": {},
   "outputs": [
    {
     "name": "stdout",
     "output_type": "stream",
     "text": [
      "All observations independent? True\n",
      "\n"
     ]
    }
   ],
   "source": [
    "uniqueids = df.id.nunique()\n",
    "idcounts = df.id.count()\n",
    "print(f\"All observations independent? {uniqueids == idcounts}\\n\")"
   ]
  },
  {
   "cell_type": "markdown",
   "id": "e124aa7f-89e7-4384-82aa-7cdfb4778064",
   "metadata": {},
   "source": [
    "**Examine Diagnosis Values**\n",
    "\n",
    "The subsequent phase involves encoding the diagnosis feature classes and confirming the presence of two distinct classes within the target(**diagnosis**), thereby establishing it as a binary classification.  The dataset should display unique diagnostic values along with their corresponding frequencies."
   ]
  },
  {
   "cell_type": "markdown",
   "id": "c575504d-ae04-4e29-8de4-3d92981847e0",
   "metadata": {},
   "source": [
    "**Encode 'Benign' as 0, 'Malignant' as 1**"
   ]
  },
  {
   "cell_type": "code",
   "execution_count": 6,
   "id": "af0bbd28-b795-42f5-92dc-ce5fb6a4764e",
   "metadata": {},
   "outputs": [],
   "source": [
    "df[\"diagnosis\"] = df[\"diagnosis\"].replace({\"M\": 1, \"B\": 0})"
   ]
  },
  {
   "cell_type": "code",
   "execution_count": 7,
   "id": "a0eb6e34-0ced-4996-a844-b188f15339b2",
   "metadata": {},
   "outputs": [
    {
     "name": "stdout",
     "output_type": "stream",
     "text": [
      "Benign (Class 0): 357 \n",
      "\n",
      "Malignant (Class 1): 212 \n",
      "\n"
     ]
    }
   ],
   "source": [
    "diagnosis_class_counts = df[\"diagnosis\"].value_counts()\n",
    "print(\"Benign (Class 0):\", diagnosis_class_counts[0], \"\\n\")\n",
    "print(\"Malignant (Class 1):\", diagnosis_class_counts[1], \"\\n\")"
   ]
  },
  {
   "cell_type": "markdown",
   "id": "7e2c61df-ce3c-44e9-9207-43f78101a9d4",
   "metadata": {},
   "source": [
    "**Diagnosis Correlations**"
   ]
  },
  {
   "cell_type": "code",
   "execution_count": 8,
   "id": "ab9e568a-ca38-456c-9e10-0cd98c9c9a64",
   "metadata": {},
   "outputs": [
    {
     "data": {
      "text/html": [
       "<div>\n",
       "<style scoped>\n",
       "    .dataframe tbody tr th:only-of-type {\n",
       "        vertical-align: middle;\n",
       "    }\n",
       "\n",
       "    .dataframe tbody tr th {\n",
       "        vertical-align: top;\n",
       "    }\n",
       "\n",
       "    .dataframe thead th {\n",
       "        text-align: right;\n",
       "    }\n",
       "</style>\n",
       "<table border=\"1\" class=\"dataframe\">\n",
       "  <thead>\n",
       "    <tr style=\"text-align: right;\">\n",
       "      <th></th>\n",
       "      <th>id</th>\n",
       "      <th>diagnosis</th>\n",
       "      <th>radius_mean</th>\n",
       "      <th>texture_mean</th>\n",
       "      <th>perimeter_mean</th>\n",
       "      <th>area_mean</th>\n",
       "      <th>smoothness_mean</th>\n",
       "      <th>compactness_mean</th>\n",
       "      <th>concavity_mean</th>\n",
       "      <th>concave points_mean</th>\n",
       "      <th>...</th>\n",
       "      <th>texture_worst</th>\n",
       "      <th>perimeter_worst</th>\n",
       "      <th>area_worst</th>\n",
       "      <th>smoothness_worst</th>\n",
       "      <th>compactness_worst</th>\n",
       "      <th>concavity_worst</th>\n",
       "      <th>concave points_worst</th>\n",
       "      <th>symmetry_worst</th>\n",
       "      <th>fractal_dimension_worst</th>\n",
       "      <th>Unnamed: 32</th>\n",
       "    </tr>\n",
       "  </thead>\n",
       "  <tbody>\n",
       "    <tr>\n",
       "      <th>diagnosis</th>\n",
       "      <td>0.039769</td>\n",
       "      <td>1.000000</td>\n",
       "      <td>0.730029</td>\n",
       "      <td>0.415185</td>\n",
       "      <td>0.742636</td>\n",
       "      <td>0.708984</td>\n",
       "      <td>0.358560</td>\n",
       "      <td>0.596534</td>\n",
       "      <td>0.696360</td>\n",
       "      <td>0.776614</td>\n",
       "      <td>...</td>\n",
       "      <td>0.456903</td>\n",
       "      <td>0.782914</td>\n",
       "      <td>0.733825</td>\n",
       "      <td>0.421465</td>\n",
       "      <td>0.590998</td>\n",
       "      <td>0.659610</td>\n",
       "      <td>0.793566</td>\n",
       "      <td>0.416294</td>\n",
       "      <td>0.323872</td>\n",
       "      <td>NaN</td>\n",
       "    </tr>\n",
       "    <tr>\n",
       "      <th>concave points_worst</th>\n",
       "      <td>0.035174</td>\n",
       "      <td>0.793566</td>\n",
       "      <td>0.744214</td>\n",
       "      <td>0.295316</td>\n",
       "      <td>0.771241</td>\n",
       "      <td>0.722017</td>\n",
       "      <td>0.503053</td>\n",
       "      <td>0.815573</td>\n",
       "      <td>0.861323</td>\n",
       "      <td>0.910155</td>\n",
       "      <td>...</td>\n",
       "      <td>0.359755</td>\n",
       "      <td>0.816322</td>\n",
       "      <td>0.747419</td>\n",
       "      <td>0.547691</td>\n",
       "      <td>0.801080</td>\n",
       "      <td>0.855434</td>\n",
       "      <td>1.000000</td>\n",
       "      <td>0.502528</td>\n",
       "      <td>0.511114</td>\n",
       "      <td>NaN</td>\n",
       "    </tr>\n",
       "    <tr>\n",
       "      <th>perimeter_worst</th>\n",
       "      <td>0.079986</td>\n",
       "      <td>0.782914</td>\n",
       "      <td>0.965137</td>\n",
       "      <td>0.358040</td>\n",
       "      <td>0.970387</td>\n",
       "      <td>0.959120</td>\n",
       "      <td>0.238853</td>\n",
       "      <td>0.590210</td>\n",
       "      <td>0.729565</td>\n",
       "      <td>0.855923</td>\n",
       "      <td>...</td>\n",
       "      <td>0.365098</td>\n",
       "      <td>1.000000</td>\n",
       "      <td>0.977578</td>\n",
       "      <td>0.236775</td>\n",
       "      <td>0.529408</td>\n",
       "      <td>0.618344</td>\n",
       "      <td>0.816322</td>\n",
       "      <td>0.269493</td>\n",
       "      <td>0.138957</td>\n",
       "      <td>NaN</td>\n",
       "    </tr>\n",
       "    <tr>\n",
       "      <th>concave points_mean</th>\n",
       "      <td>0.044158</td>\n",
       "      <td>0.776614</td>\n",
       "      <td>0.822529</td>\n",
       "      <td>0.293464</td>\n",
       "      <td>0.850977</td>\n",
       "      <td>0.823269</td>\n",
       "      <td>0.553695</td>\n",
       "      <td>0.831135</td>\n",
       "      <td>0.921391</td>\n",
       "      <td>1.000000</td>\n",
       "      <td>...</td>\n",
       "      <td>0.292752</td>\n",
       "      <td>0.855923</td>\n",
       "      <td>0.809630</td>\n",
       "      <td>0.452753</td>\n",
       "      <td>0.667454</td>\n",
       "      <td>0.752399</td>\n",
       "      <td>0.910155</td>\n",
       "      <td>0.375744</td>\n",
       "      <td>0.368661</td>\n",
       "      <td>NaN</td>\n",
       "    </tr>\n",
       "    <tr>\n",
       "      <th>radius_worst</th>\n",
       "      <td>0.082405</td>\n",
       "      <td>0.776454</td>\n",
       "      <td>0.969539</td>\n",
       "      <td>0.352573</td>\n",
       "      <td>0.969476</td>\n",
       "      <td>0.962746</td>\n",
       "      <td>0.213120</td>\n",
       "      <td>0.535315</td>\n",
       "      <td>0.688236</td>\n",
       "      <td>0.830318</td>\n",
       "      <td>...</td>\n",
       "      <td>0.359921</td>\n",
       "      <td>0.993708</td>\n",
       "      <td>0.984015</td>\n",
       "      <td>0.216574</td>\n",
       "      <td>0.475820</td>\n",
       "      <td>0.573975</td>\n",
       "      <td>0.787424</td>\n",
       "      <td>0.243529</td>\n",
       "      <td>0.093492</td>\n",
       "      <td>NaN</td>\n",
       "    </tr>\n",
       "    <tr>\n",
       "      <th>perimeter_mean</th>\n",
       "      <td>0.073159</td>\n",
       "      <td>0.742636</td>\n",
       "      <td>0.997855</td>\n",
       "      <td>0.329533</td>\n",
       "      <td>1.000000</td>\n",
       "      <td>0.986507</td>\n",
       "      <td>0.207278</td>\n",
       "      <td>0.556936</td>\n",
       "      <td>0.716136</td>\n",
       "      <td>0.850977</td>\n",
       "      <td>...</td>\n",
       "      <td>0.303038</td>\n",
       "      <td>0.970387</td>\n",
       "      <td>0.941550</td>\n",
       "      <td>0.150549</td>\n",
       "      <td>0.455774</td>\n",
       "      <td>0.563879</td>\n",
       "      <td>0.771241</td>\n",
       "      <td>0.189115</td>\n",
       "      <td>0.051019</td>\n",
       "      <td>NaN</td>\n",
       "    </tr>\n",
       "    <tr>\n",
       "      <th>area_worst</th>\n",
       "      <td>0.107187</td>\n",
       "      <td>0.733825</td>\n",
       "      <td>0.941082</td>\n",
       "      <td>0.343546</td>\n",
       "      <td>0.941550</td>\n",
       "      <td>0.959213</td>\n",
       "      <td>0.206718</td>\n",
       "      <td>0.509604</td>\n",
       "      <td>0.675987</td>\n",
       "      <td>0.809630</td>\n",
       "      <td>...</td>\n",
       "      <td>0.345842</td>\n",
       "      <td>0.977578</td>\n",
       "      <td>1.000000</td>\n",
       "      <td>0.209145</td>\n",
       "      <td>0.438296</td>\n",
       "      <td>0.543331</td>\n",
       "      <td>0.747419</td>\n",
       "      <td>0.209146</td>\n",
       "      <td>0.079647</td>\n",
       "      <td>NaN</td>\n",
       "    </tr>\n",
       "    <tr>\n",
       "      <th>radius_mean</th>\n",
       "      <td>0.074626</td>\n",
       "      <td>0.730029</td>\n",
       "      <td>1.000000</td>\n",
       "      <td>0.323782</td>\n",
       "      <td>0.997855</td>\n",
       "      <td>0.987357</td>\n",
       "      <td>0.170581</td>\n",
       "      <td>0.506124</td>\n",
       "      <td>0.676764</td>\n",
       "      <td>0.822529</td>\n",
       "      <td>...</td>\n",
       "      <td>0.297008</td>\n",
       "      <td>0.965137</td>\n",
       "      <td>0.941082</td>\n",
       "      <td>0.119616</td>\n",
       "      <td>0.413463</td>\n",
       "      <td>0.526911</td>\n",
       "      <td>0.744214</td>\n",
       "      <td>0.163953</td>\n",
       "      <td>0.007066</td>\n",
       "      <td>NaN</td>\n",
       "    </tr>\n",
       "    <tr>\n",
       "      <th>area_mean</th>\n",
       "      <td>0.096893</td>\n",
       "      <td>0.708984</td>\n",
       "      <td>0.987357</td>\n",
       "      <td>0.321086</td>\n",
       "      <td>0.986507</td>\n",
       "      <td>1.000000</td>\n",
       "      <td>0.177028</td>\n",
       "      <td>0.498502</td>\n",
       "      <td>0.685983</td>\n",
       "      <td>0.823269</td>\n",
       "      <td>...</td>\n",
       "      <td>0.287489</td>\n",
       "      <td>0.959120</td>\n",
       "      <td>0.959213</td>\n",
       "      <td>0.123523</td>\n",
       "      <td>0.390410</td>\n",
       "      <td>0.512606</td>\n",
       "      <td>0.722017</td>\n",
       "      <td>0.143570</td>\n",
       "      <td>0.003738</td>\n",
       "      <td>NaN</td>\n",
       "    </tr>\n",
       "    <tr>\n",
       "      <th>concavity_mean</th>\n",
       "      <td>0.050080</td>\n",
       "      <td>0.696360</td>\n",
       "      <td>0.676764</td>\n",
       "      <td>0.302418</td>\n",
       "      <td>0.716136</td>\n",
       "      <td>0.685983</td>\n",
       "      <td>0.521984</td>\n",
       "      <td>0.883121</td>\n",
       "      <td>1.000000</td>\n",
       "      <td>0.921391</td>\n",
       "      <td>...</td>\n",
       "      <td>0.299879</td>\n",
       "      <td>0.729565</td>\n",
       "      <td>0.675987</td>\n",
       "      <td>0.448822</td>\n",
       "      <td>0.754968</td>\n",
       "      <td>0.884103</td>\n",
       "      <td>0.861323</td>\n",
       "      <td>0.409464</td>\n",
       "      <td>0.514930</td>\n",
       "      <td>NaN</td>\n",
       "    </tr>\n",
       "    <tr>\n",
       "      <th>concavity_worst</th>\n",
       "      <td>0.023203</td>\n",
       "      <td>0.659610</td>\n",
       "      <td>0.526911</td>\n",
       "      <td>0.301025</td>\n",
       "      <td>0.563879</td>\n",
       "      <td>0.512606</td>\n",
       "      <td>0.434926</td>\n",
       "      <td>0.816275</td>\n",
       "      <td>0.884103</td>\n",
       "      <td>0.752399</td>\n",
       "      <td>...</td>\n",
       "      <td>0.368366</td>\n",
       "      <td>0.618344</td>\n",
       "      <td>0.543331</td>\n",
       "      <td>0.518523</td>\n",
       "      <td>0.892261</td>\n",
       "      <td>1.000000</td>\n",
       "      <td>0.855434</td>\n",
       "      <td>0.532520</td>\n",
       "      <td>0.686511</td>\n",
       "      <td>NaN</td>\n",
       "    </tr>\n",
       "    <tr>\n",
       "      <th>compactness_mean</th>\n",
       "      <td>0.000096</td>\n",
       "      <td>0.596534</td>\n",
       "      <td>0.506124</td>\n",
       "      <td>0.236702</td>\n",
       "      <td>0.556936</td>\n",
       "      <td>0.498502</td>\n",
       "      <td>0.659123</td>\n",
       "      <td>1.000000</td>\n",
       "      <td>0.883121</td>\n",
       "      <td>0.831135</td>\n",
       "      <td>...</td>\n",
       "      <td>0.248133</td>\n",
       "      <td>0.590210</td>\n",
       "      <td>0.509604</td>\n",
       "      <td>0.565541</td>\n",
       "      <td>0.865809</td>\n",
       "      <td>0.816275</td>\n",
       "      <td>0.815573</td>\n",
       "      <td>0.510223</td>\n",
       "      <td>0.687382</td>\n",
       "      <td>NaN</td>\n",
       "    </tr>\n",
       "    <tr>\n",
       "      <th>compactness_worst</th>\n",
       "      <td>-0.002968</td>\n",
       "      <td>0.590998</td>\n",
       "      <td>0.413463</td>\n",
       "      <td>0.277830</td>\n",
       "      <td>0.455774</td>\n",
       "      <td>0.390410</td>\n",
       "      <td>0.472468</td>\n",
       "      <td>0.865809</td>\n",
       "      <td>0.754968</td>\n",
       "      <td>0.667454</td>\n",
       "      <td>...</td>\n",
       "      <td>0.360832</td>\n",
       "      <td>0.529408</td>\n",
       "      <td>0.438296</td>\n",
       "      <td>0.568187</td>\n",
       "      <td>1.000000</td>\n",
       "      <td>0.892261</td>\n",
       "      <td>0.801080</td>\n",
       "      <td>0.614441</td>\n",
       "      <td>0.810455</td>\n",
       "      <td>NaN</td>\n",
       "    </tr>\n",
       "    <tr>\n",
       "      <th>radius_se</th>\n",
       "      <td>0.143048</td>\n",
       "      <td>0.567134</td>\n",
       "      <td>0.679090</td>\n",
       "      <td>0.275869</td>\n",
       "      <td>0.691765</td>\n",
       "      <td>0.732562</td>\n",
       "      <td>0.301467</td>\n",
       "      <td>0.497473</td>\n",
       "      <td>0.631925</td>\n",
       "      <td>0.698050</td>\n",
       "      <td>...</td>\n",
       "      <td>0.194799</td>\n",
       "      <td>0.719684</td>\n",
       "      <td>0.751548</td>\n",
       "      <td>0.141919</td>\n",
       "      <td>0.287103</td>\n",
       "      <td>0.380585</td>\n",
       "      <td>0.531062</td>\n",
       "      <td>0.094543</td>\n",
       "      <td>0.049559</td>\n",
       "      <td>NaN</td>\n",
       "    </tr>\n",
       "    <tr>\n",
       "      <th>perimeter_se</th>\n",
       "      <td>0.137331</td>\n",
       "      <td>0.556141</td>\n",
       "      <td>0.674172</td>\n",
       "      <td>0.281673</td>\n",
       "      <td>0.693135</td>\n",
       "      <td>0.726628</td>\n",
       "      <td>0.296092</td>\n",
       "      <td>0.548905</td>\n",
       "      <td>0.660391</td>\n",
       "      <td>0.710650</td>\n",
       "      <td>...</td>\n",
       "      <td>0.200371</td>\n",
       "      <td>0.721031</td>\n",
       "      <td>0.730713</td>\n",
       "      <td>0.130054</td>\n",
       "      <td>0.341919</td>\n",
       "      <td>0.418899</td>\n",
       "      <td>0.554897</td>\n",
       "      <td>0.109930</td>\n",
       "      <td>0.085433</td>\n",
       "      <td>NaN</td>\n",
       "    </tr>\n",
       "    <tr>\n",
       "      <th>area_se</th>\n",
       "      <td>0.177742</td>\n",
       "      <td>0.548236</td>\n",
       "      <td>0.735864</td>\n",
       "      <td>0.259845</td>\n",
       "      <td>0.744983</td>\n",
       "      <td>0.800086</td>\n",
       "      <td>0.246552</td>\n",
       "      <td>0.455653</td>\n",
       "      <td>0.617427</td>\n",
       "      <td>0.690299</td>\n",
       "      <td>...</td>\n",
       "      <td>0.196497</td>\n",
       "      <td>0.761213</td>\n",
       "      <td>0.811408</td>\n",
       "      <td>0.125389</td>\n",
       "      <td>0.283257</td>\n",
       "      <td>0.385100</td>\n",
       "      <td>0.538166</td>\n",
       "      <td>0.074126</td>\n",
       "      <td>0.017539</td>\n",
       "      <td>NaN</td>\n",
       "    </tr>\n",
       "    <tr>\n",
       "      <th>texture_worst</th>\n",
       "      <td>0.064720</td>\n",
       "      <td>0.456903</td>\n",
       "      <td>0.297008</td>\n",
       "      <td>0.912045</td>\n",
       "      <td>0.303038</td>\n",
       "      <td>0.287489</td>\n",
       "      <td>0.036072</td>\n",
       "      <td>0.248133</td>\n",
       "      <td>0.299879</td>\n",
       "      <td>0.292752</td>\n",
       "      <td>...</td>\n",
       "      <td>1.000000</td>\n",
       "      <td>0.365098</td>\n",
       "      <td>0.345842</td>\n",
       "      <td>0.225429</td>\n",
       "      <td>0.360832</td>\n",
       "      <td>0.368366</td>\n",
       "      <td>0.359755</td>\n",
       "      <td>0.233027</td>\n",
       "      <td>0.219122</td>\n",
       "      <td>NaN</td>\n",
       "    </tr>\n",
       "    <tr>\n",
       "      <th>smoothness_worst</th>\n",
       "      <td>0.010338</td>\n",
       "      <td>0.421465</td>\n",
       "      <td>0.119616</td>\n",
       "      <td>0.077503</td>\n",
       "      <td>0.150549</td>\n",
       "      <td>0.123523</td>\n",
       "      <td>0.805324</td>\n",
       "      <td>0.565541</td>\n",
       "      <td>0.448822</td>\n",
       "      <td>0.452753</td>\n",
       "      <td>...</td>\n",
       "      <td>0.225429</td>\n",
       "      <td>0.236775</td>\n",
       "      <td>0.209145</td>\n",
       "      <td>1.000000</td>\n",
       "      <td>0.568187</td>\n",
       "      <td>0.518523</td>\n",
       "      <td>0.547691</td>\n",
       "      <td>0.493838</td>\n",
       "      <td>0.617624</td>\n",
       "      <td>NaN</td>\n",
       "    </tr>\n",
       "    <tr>\n",
       "      <th>symmetry_worst</th>\n",
       "      <td>-0.044224</td>\n",
       "      <td>0.416294</td>\n",
       "      <td>0.163953</td>\n",
       "      <td>0.105008</td>\n",
       "      <td>0.189115</td>\n",
       "      <td>0.143570</td>\n",
       "      <td>0.394309</td>\n",
       "      <td>0.510223</td>\n",
       "      <td>0.409464</td>\n",
       "      <td>0.375744</td>\n",
       "      <td>...</td>\n",
       "      <td>0.233027</td>\n",
       "      <td>0.269493</td>\n",
       "      <td>0.209146</td>\n",
       "      <td>0.493838</td>\n",
       "      <td>0.614441</td>\n",
       "      <td>0.532520</td>\n",
       "      <td>0.502528</td>\n",
       "      <td>1.000000</td>\n",
       "      <td>0.537848</td>\n",
       "      <td>NaN</td>\n",
       "    </tr>\n",
       "    <tr>\n",
       "      <th>texture_mean</th>\n",
       "      <td>0.099770</td>\n",
       "      <td>0.415185</td>\n",
       "      <td>0.323782</td>\n",
       "      <td>1.000000</td>\n",
       "      <td>0.329533</td>\n",
       "      <td>0.321086</td>\n",
       "      <td>-0.023389</td>\n",
       "      <td>0.236702</td>\n",
       "      <td>0.302418</td>\n",
       "      <td>0.293464</td>\n",
       "      <td>...</td>\n",
       "      <td>0.912045</td>\n",
       "      <td>0.358040</td>\n",
       "      <td>0.343546</td>\n",
       "      <td>0.077503</td>\n",
       "      <td>0.277830</td>\n",
       "      <td>0.301025</td>\n",
       "      <td>0.295316</td>\n",
       "      <td>0.105008</td>\n",
       "      <td>0.119205</td>\n",
       "      <td>NaN</td>\n",
       "    </tr>\n",
       "    <tr>\n",
       "      <th>concave points_se</th>\n",
       "      <td>0.078768</td>\n",
       "      <td>0.408042</td>\n",
       "      <td>0.376169</td>\n",
       "      <td>0.163851</td>\n",
       "      <td>0.407217</td>\n",
       "      <td>0.372320</td>\n",
       "      <td>0.380676</td>\n",
       "      <td>0.642262</td>\n",
       "      <td>0.683260</td>\n",
       "      <td>0.615634</td>\n",
       "      <td>...</td>\n",
       "      <td>0.086741</td>\n",
       "      <td>0.394999</td>\n",
       "      <td>0.342271</td>\n",
       "      <td>0.215351</td>\n",
       "      <td>0.452888</td>\n",
       "      <td>0.549592</td>\n",
       "      <td>0.602450</td>\n",
       "      <td>0.143116</td>\n",
       "      <td>0.310655</td>\n",
       "      <td>NaN</td>\n",
       "    </tr>\n",
       "    <tr>\n",
       "      <th>smoothness_mean</th>\n",
       "      <td>-0.012968</td>\n",
       "      <td>0.358560</td>\n",
       "      <td>0.170581</td>\n",
       "      <td>-0.023389</td>\n",
       "      <td>0.207278</td>\n",
       "      <td>0.177028</td>\n",
       "      <td>1.000000</td>\n",
       "      <td>0.659123</td>\n",
       "      <td>0.521984</td>\n",
       "      <td>0.553695</td>\n",
       "      <td>...</td>\n",
       "      <td>0.036072</td>\n",
       "      <td>0.238853</td>\n",
       "      <td>0.206718</td>\n",
       "      <td>0.805324</td>\n",
       "      <td>0.472468</td>\n",
       "      <td>0.434926</td>\n",
       "      <td>0.503053</td>\n",
       "      <td>0.394309</td>\n",
       "      <td>0.499316</td>\n",
       "      <td>NaN</td>\n",
       "    </tr>\n",
       "    <tr>\n",
       "      <th>symmetry_mean</th>\n",
       "      <td>-0.022114</td>\n",
       "      <td>0.330499</td>\n",
       "      <td>0.147741</td>\n",
       "      <td>0.071401</td>\n",
       "      <td>0.183027</td>\n",
       "      <td>0.151293</td>\n",
       "      <td>0.557775</td>\n",
       "      <td>0.602641</td>\n",
       "      <td>0.500667</td>\n",
       "      <td>0.462497</td>\n",
       "      <td>...</td>\n",
       "      <td>0.090651</td>\n",
       "      <td>0.219169</td>\n",
       "      <td>0.177193</td>\n",
       "      <td>0.426675</td>\n",
       "      <td>0.473200</td>\n",
       "      <td>0.433721</td>\n",
       "      <td>0.430297</td>\n",
       "      <td>0.699826</td>\n",
       "      <td>0.438413</td>\n",
       "      <td>NaN</td>\n",
       "    </tr>\n",
       "    <tr>\n",
       "      <th>fractal_dimension_worst</th>\n",
       "      <td>-0.029866</td>\n",
       "      <td>0.323872</td>\n",
       "      <td>0.007066</td>\n",
       "      <td>0.119205</td>\n",
       "      <td>0.051019</td>\n",
       "      <td>0.003738</td>\n",
       "      <td>0.499316</td>\n",
       "      <td>0.687382</td>\n",
       "      <td>0.514930</td>\n",
       "      <td>0.368661</td>\n",
       "      <td>...</td>\n",
       "      <td>0.219122</td>\n",
       "      <td>0.138957</td>\n",
       "      <td>0.079647</td>\n",
       "      <td>0.617624</td>\n",
       "      <td>0.810455</td>\n",
       "      <td>0.686511</td>\n",
       "      <td>0.511114</td>\n",
       "      <td>0.537848</td>\n",
       "      <td>1.000000</td>\n",
       "      <td>NaN</td>\n",
       "    </tr>\n",
       "    <tr>\n",
       "      <th>compactness_se</th>\n",
       "      <td>0.033961</td>\n",
       "      <td>0.292999</td>\n",
       "      <td>0.206000</td>\n",
       "      <td>0.191975</td>\n",
       "      <td>0.250744</td>\n",
       "      <td>0.212583</td>\n",
       "      <td>0.318943</td>\n",
       "      <td>0.738722</td>\n",
       "      <td>0.670279</td>\n",
       "      <td>0.490424</td>\n",
       "      <td>...</td>\n",
       "      <td>0.143003</td>\n",
       "      <td>0.260516</td>\n",
       "      <td>0.199371</td>\n",
       "      <td>0.227394</td>\n",
       "      <td>0.678780</td>\n",
       "      <td>0.639147</td>\n",
       "      <td>0.483208</td>\n",
       "      <td>0.277878</td>\n",
       "      <td>0.590973</td>\n",
       "      <td>NaN</td>\n",
       "    </tr>\n",
       "    <tr>\n",
       "      <th>concavity_se</th>\n",
       "      <td>0.055239</td>\n",
       "      <td>0.253730</td>\n",
       "      <td>0.194204</td>\n",
       "      <td>0.143293</td>\n",
       "      <td>0.228082</td>\n",
       "      <td>0.207660</td>\n",
       "      <td>0.248396</td>\n",
       "      <td>0.570517</td>\n",
       "      <td>0.691270</td>\n",
       "      <td>0.439167</td>\n",
       "      <td>...</td>\n",
       "      <td>0.100241</td>\n",
       "      <td>0.226680</td>\n",
       "      <td>0.188353</td>\n",
       "      <td>0.168481</td>\n",
       "      <td>0.484858</td>\n",
       "      <td>0.662564</td>\n",
       "      <td>0.440472</td>\n",
       "      <td>0.197788</td>\n",
       "      <td>0.439329</td>\n",
       "      <td>NaN</td>\n",
       "    </tr>\n",
       "    <tr>\n",
       "      <th>fractal_dimension_se</th>\n",
       "      <td>0.025725</td>\n",
       "      <td>0.077972</td>\n",
       "      <td>-0.042641</td>\n",
       "      <td>0.054458</td>\n",
       "      <td>-0.005523</td>\n",
       "      <td>-0.019887</td>\n",
       "      <td>0.283607</td>\n",
       "      <td>0.507318</td>\n",
       "      <td>0.449301</td>\n",
       "      <td>0.257584</td>\n",
       "      <td>...</td>\n",
       "      <td>-0.003195</td>\n",
       "      <td>-0.001000</td>\n",
       "      <td>-0.022736</td>\n",
       "      <td>0.170568</td>\n",
       "      <td>0.390159</td>\n",
       "      <td>0.379975</td>\n",
       "      <td>0.215204</td>\n",
       "      <td>0.111094</td>\n",
       "      <td>0.591328</td>\n",
       "      <td>NaN</td>\n",
       "    </tr>\n",
       "    <tr>\n",
       "      <th>id</th>\n",
       "      <td>1.000000</td>\n",
       "      <td>0.039769</td>\n",
       "      <td>0.074626</td>\n",
       "      <td>0.099770</td>\n",
       "      <td>0.073159</td>\n",
       "      <td>0.096893</td>\n",
       "      <td>-0.012968</td>\n",
       "      <td>0.000096</td>\n",
       "      <td>0.050080</td>\n",
       "      <td>0.044158</td>\n",
       "      <td>...</td>\n",
       "      <td>0.064720</td>\n",
       "      <td>0.079986</td>\n",
       "      <td>0.107187</td>\n",
       "      <td>0.010338</td>\n",
       "      <td>-0.002968</td>\n",
       "      <td>0.023203</td>\n",
       "      <td>0.035174</td>\n",
       "      <td>-0.044224</td>\n",
       "      <td>-0.029866</td>\n",
       "      <td>NaN</td>\n",
       "    </tr>\n",
       "    <tr>\n",
       "      <th>symmetry_se</th>\n",
       "      <td>-0.017306</td>\n",
       "      <td>-0.006522</td>\n",
       "      <td>-0.104321</td>\n",
       "      <td>0.009127</td>\n",
       "      <td>-0.081629</td>\n",
       "      <td>-0.072497</td>\n",
       "      <td>0.200774</td>\n",
       "      <td>0.229977</td>\n",
       "      <td>0.178009</td>\n",
       "      <td>0.095351</td>\n",
       "      <td>...</td>\n",
       "      <td>-0.077473</td>\n",
       "      <td>-0.103753</td>\n",
       "      <td>-0.110343</td>\n",
       "      <td>-0.012662</td>\n",
       "      <td>0.060255</td>\n",
       "      <td>0.037119</td>\n",
       "      <td>-0.030413</td>\n",
       "      <td>0.389402</td>\n",
       "      <td>0.078079</td>\n",
       "      <td>NaN</td>\n",
       "    </tr>\n",
       "    <tr>\n",
       "      <th>texture_se</th>\n",
       "      <td>-0.007526</td>\n",
       "      <td>-0.008303</td>\n",
       "      <td>-0.097317</td>\n",
       "      <td>0.386358</td>\n",
       "      <td>-0.086761</td>\n",
       "      <td>-0.066280</td>\n",
       "      <td>0.068406</td>\n",
       "      <td>0.046205</td>\n",
       "      <td>0.076218</td>\n",
       "      <td>0.021480</td>\n",
       "      <td>...</td>\n",
       "      <td>0.409003</td>\n",
       "      <td>-0.102242</td>\n",
       "      <td>-0.083195</td>\n",
       "      <td>-0.073658</td>\n",
       "      <td>-0.092439</td>\n",
       "      <td>-0.068956</td>\n",
       "      <td>-0.119638</td>\n",
       "      <td>-0.128215</td>\n",
       "      <td>-0.045655</td>\n",
       "      <td>NaN</td>\n",
       "    </tr>\n",
       "    <tr>\n",
       "      <th>fractal_dimension_mean</th>\n",
       "      <td>-0.052511</td>\n",
       "      <td>-0.012838</td>\n",
       "      <td>-0.311631</td>\n",
       "      <td>-0.076437</td>\n",
       "      <td>-0.261477</td>\n",
       "      <td>-0.283110</td>\n",
       "      <td>0.584792</td>\n",
       "      <td>0.565369</td>\n",
       "      <td>0.336783</td>\n",
       "      <td>0.166917</td>\n",
       "      <td>...</td>\n",
       "      <td>-0.051269</td>\n",
       "      <td>-0.205151</td>\n",
       "      <td>-0.231854</td>\n",
       "      <td>0.504942</td>\n",
       "      <td>0.458798</td>\n",
       "      <td>0.346234</td>\n",
       "      <td>0.175325</td>\n",
       "      <td>0.334019</td>\n",
       "      <td>0.767297</td>\n",
       "      <td>NaN</td>\n",
       "    </tr>\n",
       "    <tr>\n",
       "      <th>smoothness_se</th>\n",
       "      <td>0.096781</td>\n",
       "      <td>-0.067016</td>\n",
       "      <td>-0.222600</td>\n",
       "      <td>0.006614</td>\n",
       "      <td>-0.202694</td>\n",
       "      <td>-0.166777</td>\n",
       "      <td>0.332375</td>\n",
       "      <td>0.135299</td>\n",
       "      <td>0.098564</td>\n",
       "      <td>0.027653</td>\n",
       "      <td>...</td>\n",
       "      <td>-0.074743</td>\n",
       "      <td>-0.217304</td>\n",
       "      <td>-0.182195</td>\n",
       "      <td>0.314457</td>\n",
       "      <td>-0.055558</td>\n",
       "      <td>-0.058298</td>\n",
       "      <td>-0.102007</td>\n",
       "      <td>-0.107342</td>\n",
       "      <td>0.101480</td>\n",
       "      <td>NaN</td>\n",
       "    </tr>\n",
       "    <tr>\n",
       "      <th>Unnamed: 32</th>\n",
       "      <td>NaN</td>\n",
       "      <td>NaN</td>\n",
       "      <td>NaN</td>\n",
       "      <td>NaN</td>\n",
       "      <td>NaN</td>\n",
       "      <td>NaN</td>\n",
       "      <td>NaN</td>\n",
       "      <td>NaN</td>\n",
       "      <td>NaN</td>\n",
       "      <td>NaN</td>\n",
       "      <td>...</td>\n",
       "      <td>NaN</td>\n",
       "      <td>NaN</td>\n",
       "      <td>NaN</td>\n",
       "      <td>NaN</td>\n",
       "      <td>NaN</td>\n",
       "      <td>NaN</td>\n",
       "      <td>NaN</td>\n",
       "      <td>NaN</td>\n",
       "      <td>NaN</td>\n",
       "      <td>NaN</td>\n",
       "    </tr>\n",
       "  </tbody>\n",
       "</table>\n",
       "<p>33 rows × 33 columns</p>\n",
       "</div>"
      ],
      "text/plain": [
       "                               id  diagnosis  radius_mean  texture_mean  \\\n",
       "diagnosis                0.039769   1.000000     0.730029      0.415185   \n",
       "concave points_worst     0.035174   0.793566     0.744214      0.295316   \n",
       "perimeter_worst          0.079986   0.782914     0.965137      0.358040   \n",
       "concave points_mean      0.044158   0.776614     0.822529      0.293464   \n",
       "radius_worst             0.082405   0.776454     0.969539      0.352573   \n",
       "perimeter_mean           0.073159   0.742636     0.997855      0.329533   \n",
       "area_worst               0.107187   0.733825     0.941082      0.343546   \n",
       "radius_mean              0.074626   0.730029     1.000000      0.323782   \n",
       "area_mean                0.096893   0.708984     0.987357      0.321086   \n",
       "concavity_mean           0.050080   0.696360     0.676764      0.302418   \n",
       "concavity_worst          0.023203   0.659610     0.526911      0.301025   \n",
       "compactness_mean         0.000096   0.596534     0.506124      0.236702   \n",
       "compactness_worst       -0.002968   0.590998     0.413463      0.277830   \n",
       "radius_se                0.143048   0.567134     0.679090      0.275869   \n",
       "perimeter_se             0.137331   0.556141     0.674172      0.281673   \n",
       "area_se                  0.177742   0.548236     0.735864      0.259845   \n",
       "texture_worst            0.064720   0.456903     0.297008      0.912045   \n",
       "smoothness_worst         0.010338   0.421465     0.119616      0.077503   \n",
       "symmetry_worst          -0.044224   0.416294     0.163953      0.105008   \n",
       "texture_mean             0.099770   0.415185     0.323782      1.000000   \n",
       "concave points_se        0.078768   0.408042     0.376169      0.163851   \n",
       "smoothness_mean         -0.012968   0.358560     0.170581     -0.023389   \n",
       "symmetry_mean           -0.022114   0.330499     0.147741      0.071401   \n",
       "fractal_dimension_worst -0.029866   0.323872     0.007066      0.119205   \n",
       "compactness_se           0.033961   0.292999     0.206000      0.191975   \n",
       "concavity_se             0.055239   0.253730     0.194204      0.143293   \n",
       "fractal_dimension_se     0.025725   0.077972    -0.042641      0.054458   \n",
       "id                       1.000000   0.039769     0.074626      0.099770   \n",
       "symmetry_se             -0.017306  -0.006522    -0.104321      0.009127   \n",
       "texture_se              -0.007526  -0.008303    -0.097317      0.386358   \n",
       "fractal_dimension_mean  -0.052511  -0.012838    -0.311631     -0.076437   \n",
       "smoothness_se            0.096781  -0.067016    -0.222600      0.006614   \n",
       "Unnamed: 32                   NaN        NaN          NaN           NaN   \n",
       "\n",
       "                         perimeter_mean  area_mean  smoothness_mean  \\\n",
       "diagnosis                      0.742636   0.708984         0.358560   \n",
       "concave points_worst           0.771241   0.722017         0.503053   \n",
       "perimeter_worst                0.970387   0.959120         0.238853   \n",
       "concave points_mean            0.850977   0.823269         0.553695   \n",
       "radius_worst                   0.969476   0.962746         0.213120   \n",
       "perimeter_mean                 1.000000   0.986507         0.207278   \n",
       "area_worst                     0.941550   0.959213         0.206718   \n",
       "radius_mean                    0.997855   0.987357         0.170581   \n",
       "area_mean                      0.986507   1.000000         0.177028   \n",
       "concavity_mean                 0.716136   0.685983         0.521984   \n",
       "concavity_worst                0.563879   0.512606         0.434926   \n",
       "compactness_mean               0.556936   0.498502         0.659123   \n",
       "compactness_worst              0.455774   0.390410         0.472468   \n",
       "radius_se                      0.691765   0.732562         0.301467   \n",
       "perimeter_se                   0.693135   0.726628         0.296092   \n",
       "area_se                        0.744983   0.800086         0.246552   \n",
       "texture_worst                  0.303038   0.287489         0.036072   \n",
       "smoothness_worst               0.150549   0.123523         0.805324   \n",
       "symmetry_worst                 0.189115   0.143570         0.394309   \n",
       "texture_mean                   0.329533   0.321086        -0.023389   \n",
       "concave points_se              0.407217   0.372320         0.380676   \n",
       "smoothness_mean                0.207278   0.177028         1.000000   \n",
       "symmetry_mean                  0.183027   0.151293         0.557775   \n",
       "fractal_dimension_worst        0.051019   0.003738         0.499316   \n",
       "compactness_se                 0.250744   0.212583         0.318943   \n",
       "concavity_se                   0.228082   0.207660         0.248396   \n",
       "fractal_dimension_se          -0.005523  -0.019887         0.283607   \n",
       "id                             0.073159   0.096893        -0.012968   \n",
       "symmetry_se                   -0.081629  -0.072497         0.200774   \n",
       "texture_se                    -0.086761  -0.066280         0.068406   \n",
       "fractal_dimension_mean        -0.261477  -0.283110         0.584792   \n",
       "smoothness_se                 -0.202694  -0.166777         0.332375   \n",
       "Unnamed: 32                         NaN        NaN              NaN   \n",
       "\n",
       "                         compactness_mean  concavity_mean  \\\n",
       "diagnosis                        0.596534        0.696360   \n",
       "concave points_worst             0.815573        0.861323   \n",
       "perimeter_worst                  0.590210        0.729565   \n",
       "concave points_mean              0.831135        0.921391   \n",
       "radius_worst                     0.535315        0.688236   \n",
       "perimeter_mean                   0.556936        0.716136   \n",
       "area_worst                       0.509604        0.675987   \n",
       "radius_mean                      0.506124        0.676764   \n",
       "area_mean                        0.498502        0.685983   \n",
       "concavity_mean                   0.883121        1.000000   \n",
       "concavity_worst                  0.816275        0.884103   \n",
       "compactness_mean                 1.000000        0.883121   \n",
       "compactness_worst                0.865809        0.754968   \n",
       "radius_se                        0.497473        0.631925   \n",
       "perimeter_se                     0.548905        0.660391   \n",
       "area_se                          0.455653        0.617427   \n",
       "texture_worst                    0.248133        0.299879   \n",
       "smoothness_worst                 0.565541        0.448822   \n",
       "symmetry_worst                   0.510223        0.409464   \n",
       "texture_mean                     0.236702        0.302418   \n",
       "concave points_se                0.642262        0.683260   \n",
       "smoothness_mean                  0.659123        0.521984   \n",
       "symmetry_mean                    0.602641        0.500667   \n",
       "fractal_dimension_worst          0.687382        0.514930   \n",
       "compactness_se                   0.738722        0.670279   \n",
       "concavity_se                     0.570517        0.691270   \n",
       "fractal_dimension_se             0.507318        0.449301   \n",
       "id                               0.000096        0.050080   \n",
       "symmetry_se                      0.229977        0.178009   \n",
       "texture_se                       0.046205        0.076218   \n",
       "fractal_dimension_mean           0.565369        0.336783   \n",
       "smoothness_se                    0.135299        0.098564   \n",
       "Unnamed: 32                           NaN             NaN   \n",
       "\n",
       "                         concave points_mean  ...  texture_worst  \\\n",
       "diagnosis                           0.776614  ...       0.456903   \n",
       "concave points_worst                0.910155  ...       0.359755   \n",
       "perimeter_worst                     0.855923  ...       0.365098   \n",
       "concave points_mean                 1.000000  ...       0.292752   \n",
       "radius_worst                        0.830318  ...       0.359921   \n",
       "perimeter_mean                      0.850977  ...       0.303038   \n",
       "area_worst                          0.809630  ...       0.345842   \n",
       "radius_mean                         0.822529  ...       0.297008   \n",
       "area_mean                           0.823269  ...       0.287489   \n",
       "concavity_mean                      0.921391  ...       0.299879   \n",
       "concavity_worst                     0.752399  ...       0.368366   \n",
       "compactness_mean                    0.831135  ...       0.248133   \n",
       "compactness_worst                   0.667454  ...       0.360832   \n",
       "radius_se                           0.698050  ...       0.194799   \n",
       "perimeter_se                        0.710650  ...       0.200371   \n",
       "area_se                             0.690299  ...       0.196497   \n",
       "texture_worst                       0.292752  ...       1.000000   \n",
       "smoothness_worst                    0.452753  ...       0.225429   \n",
       "symmetry_worst                      0.375744  ...       0.233027   \n",
       "texture_mean                        0.293464  ...       0.912045   \n",
       "concave points_se                   0.615634  ...       0.086741   \n",
       "smoothness_mean                     0.553695  ...       0.036072   \n",
       "symmetry_mean                       0.462497  ...       0.090651   \n",
       "fractal_dimension_worst             0.368661  ...       0.219122   \n",
       "compactness_se                      0.490424  ...       0.143003   \n",
       "concavity_se                        0.439167  ...       0.100241   \n",
       "fractal_dimension_se                0.257584  ...      -0.003195   \n",
       "id                                  0.044158  ...       0.064720   \n",
       "symmetry_se                         0.095351  ...      -0.077473   \n",
       "texture_se                          0.021480  ...       0.409003   \n",
       "fractal_dimension_mean              0.166917  ...      -0.051269   \n",
       "smoothness_se                       0.027653  ...      -0.074743   \n",
       "Unnamed: 32                              NaN  ...            NaN   \n",
       "\n",
       "                         perimeter_worst  area_worst  smoothness_worst  \\\n",
       "diagnosis                       0.782914    0.733825          0.421465   \n",
       "concave points_worst            0.816322    0.747419          0.547691   \n",
       "perimeter_worst                 1.000000    0.977578          0.236775   \n",
       "concave points_mean             0.855923    0.809630          0.452753   \n",
       "radius_worst                    0.993708    0.984015          0.216574   \n",
       "perimeter_mean                  0.970387    0.941550          0.150549   \n",
       "area_worst                      0.977578    1.000000          0.209145   \n",
       "radius_mean                     0.965137    0.941082          0.119616   \n",
       "area_mean                       0.959120    0.959213          0.123523   \n",
       "concavity_mean                  0.729565    0.675987          0.448822   \n",
       "concavity_worst                 0.618344    0.543331          0.518523   \n",
       "compactness_mean                0.590210    0.509604          0.565541   \n",
       "compactness_worst               0.529408    0.438296          0.568187   \n",
       "radius_se                       0.719684    0.751548          0.141919   \n",
       "perimeter_se                    0.721031    0.730713          0.130054   \n",
       "area_se                         0.761213    0.811408          0.125389   \n",
       "texture_worst                   0.365098    0.345842          0.225429   \n",
       "smoothness_worst                0.236775    0.209145          1.000000   \n",
       "symmetry_worst                  0.269493    0.209146          0.493838   \n",
       "texture_mean                    0.358040    0.343546          0.077503   \n",
       "concave points_se               0.394999    0.342271          0.215351   \n",
       "smoothness_mean                 0.238853    0.206718          0.805324   \n",
       "symmetry_mean                   0.219169    0.177193          0.426675   \n",
       "fractal_dimension_worst         0.138957    0.079647          0.617624   \n",
       "compactness_se                  0.260516    0.199371          0.227394   \n",
       "concavity_se                    0.226680    0.188353          0.168481   \n",
       "fractal_dimension_se           -0.001000   -0.022736          0.170568   \n",
       "id                              0.079986    0.107187          0.010338   \n",
       "symmetry_se                    -0.103753   -0.110343         -0.012662   \n",
       "texture_se                     -0.102242   -0.083195         -0.073658   \n",
       "fractal_dimension_mean         -0.205151   -0.231854          0.504942   \n",
       "smoothness_se                  -0.217304   -0.182195          0.314457   \n",
       "Unnamed: 32                          NaN         NaN               NaN   \n",
       "\n",
       "                         compactness_worst  concavity_worst  \\\n",
       "diagnosis                         0.590998         0.659610   \n",
       "concave points_worst              0.801080         0.855434   \n",
       "perimeter_worst                   0.529408         0.618344   \n",
       "concave points_mean               0.667454         0.752399   \n",
       "radius_worst                      0.475820         0.573975   \n",
       "perimeter_mean                    0.455774         0.563879   \n",
       "area_worst                        0.438296         0.543331   \n",
       "radius_mean                       0.413463         0.526911   \n",
       "area_mean                         0.390410         0.512606   \n",
       "concavity_mean                    0.754968         0.884103   \n",
       "concavity_worst                   0.892261         1.000000   \n",
       "compactness_mean                  0.865809         0.816275   \n",
       "compactness_worst                 1.000000         0.892261   \n",
       "radius_se                         0.287103         0.380585   \n",
       "perimeter_se                      0.341919         0.418899   \n",
       "area_se                           0.283257         0.385100   \n",
       "texture_worst                     0.360832         0.368366   \n",
       "smoothness_worst                  0.568187         0.518523   \n",
       "symmetry_worst                    0.614441         0.532520   \n",
       "texture_mean                      0.277830         0.301025   \n",
       "concave points_se                 0.452888         0.549592   \n",
       "smoothness_mean                   0.472468         0.434926   \n",
       "symmetry_mean                     0.473200         0.433721   \n",
       "fractal_dimension_worst           0.810455         0.686511   \n",
       "compactness_se                    0.678780         0.639147   \n",
       "concavity_se                      0.484858         0.662564   \n",
       "fractal_dimension_se              0.390159         0.379975   \n",
       "id                               -0.002968         0.023203   \n",
       "symmetry_se                       0.060255         0.037119   \n",
       "texture_se                       -0.092439        -0.068956   \n",
       "fractal_dimension_mean            0.458798         0.346234   \n",
       "smoothness_se                    -0.055558        -0.058298   \n",
       "Unnamed: 32                            NaN              NaN   \n",
       "\n",
       "                         concave points_worst  symmetry_worst  \\\n",
       "diagnosis                            0.793566        0.416294   \n",
       "concave points_worst                 1.000000        0.502528   \n",
       "perimeter_worst                      0.816322        0.269493   \n",
       "concave points_mean                  0.910155        0.375744   \n",
       "radius_worst                         0.787424        0.243529   \n",
       "perimeter_mean                       0.771241        0.189115   \n",
       "area_worst                           0.747419        0.209146   \n",
       "radius_mean                          0.744214        0.163953   \n",
       "area_mean                            0.722017        0.143570   \n",
       "concavity_mean                       0.861323        0.409464   \n",
       "concavity_worst                      0.855434        0.532520   \n",
       "compactness_mean                     0.815573        0.510223   \n",
       "compactness_worst                    0.801080        0.614441   \n",
       "radius_se                            0.531062        0.094543   \n",
       "perimeter_se                         0.554897        0.109930   \n",
       "area_se                              0.538166        0.074126   \n",
       "texture_worst                        0.359755        0.233027   \n",
       "smoothness_worst                     0.547691        0.493838   \n",
       "symmetry_worst                       0.502528        1.000000   \n",
       "texture_mean                         0.295316        0.105008   \n",
       "concave points_se                    0.602450        0.143116   \n",
       "smoothness_mean                      0.503053        0.394309   \n",
       "symmetry_mean                        0.430297        0.699826   \n",
       "fractal_dimension_worst              0.511114        0.537848   \n",
       "compactness_se                       0.483208        0.277878   \n",
       "concavity_se                         0.440472        0.197788   \n",
       "fractal_dimension_se                 0.215204        0.111094   \n",
       "id                                   0.035174       -0.044224   \n",
       "symmetry_se                         -0.030413        0.389402   \n",
       "texture_se                          -0.119638       -0.128215   \n",
       "fractal_dimension_mean               0.175325        0.334019   \n",
       "smoothness_se                       -0.102007       -0.107342   \n",
       "Unnamed: 32                               NaN             NaN   \n",
       "\n",
       "                         fractal_dimension_worst  Unnamed: 32  \n",
       "diagnosis                               0.323872          NaN  \n",
       "concave points_worst                    0.511114          NaN  \n",
       "perimeter_worst                         0.138957          NaN  \n",
       "concave points_mean                     0.368661          NaN  \n",
       "radius_worst                            0.093492          NaN  \n",
       "perimeter_mean                          0.051019          NaN  \n",
       "area_worst                              0.079647          NaN  \n",
       "radius_mean                             0.007066          NaN  \n",
       "area_mean                               0.003738          NaN  \n",
       "concavity_mean                          0.514930          NaN  \n",
       "concavity_worst                         0.686511          NaN  \n",
       "compactness_mean                        0.687382          NaN  \n",
       "compactness_worst                       0.810455          NaN  \n",
       "radius_se                               0.049559          NaN  \n",
       "perimeter_se                            0.085433          NaN  \n",
       "area_se                                 0.017539          NaN  \n",
       "texture_worst                           0.219122          NaN  \n",
       "smoothness_worst                        0.617624          NaN  \n",
       "symmetry_worst                          0.537848          NaN  \n",
       "texture_mean                            0.119205          NaN  \n",
       "concave points_se                       0.310655          NaN  \n",
       "smoothness_mean                         0.499316          NaN  \n",
       "symmetry_mean                           0.438413          NaN  \n",
       "fractal_dimension_worst                 1.000000          NaN  \n",
       "compactness_se                          0.590973          NaN  \n",
       "concavity_se                            0.439329          NaN  \n",
       "fractal_dimension_se                    0.591328          NaN  \n",
       "id                                     -0.029866          NaN  \n",
       "symmetry_se                             0.078079          NaN  \n",
       "texture_se                             -0.045655          NaN  \n",
       "fractal_dimension_mean                  0.767297          NaN  \n",
       "smoothness_se                           0.101480          NaN  \n",
       "Unnamed: 32                                  NaN          NaN  \n",
       "\n",
       "[33 rows x 33 columns]"
      ]
     },
     "execution_count": 8,
     "metadata": {},
     "output_type": "execute_result"
    }
   ],
   "source": [
    "sorted_matrix = df.corr().sort_values(\"diagnosis\", ascending=False)\n",
    "sorted_matrix"
   ]
  },
  {
   "cell_type": "markdown",
   "id": "d0f5c35a-cd75-4283-a178-d9f4d193e27b",
   "metadata": {},
   "source": [
    "**concave_points_worst** has the highest correlation to **diagnosis**. "
   ]
  },
  {
   "cell_type": "markdown",
   "id": "936f226f-0c8e-41d9-b37d-1ca71e9f7709",
   "metadata": {},
   "source": [
    "**Plot Class Frequencies**"
   ]
  },
  {
   "cell_type": "code",
   "execution_count": 9,
   "id": "efd500c1-d71f-4798-b426-722b73d3a073",
   "metadata": {},
   "outputs": [
    {
     "data": {
      "text/plain": [
       "<Axes: title={'center': 'Count (Diagnosis)'}>"
      ]
     },
     "execution_count": 9,
     "metadata": {},
     "output_type": "execute_result"
    },
    {
     "data": {
      "image/png": "[encoded data removed]",
      "text/plain": [
       "<Figure size 640x480 with 1 Axes>"
      ]
     },
     "metadata": {},
     "output_type": "display_data"
    }
   ],
   "source": [
    "diagnosis_class_counts.plot(kind=\"bar\", title=\"Count (Diagnosis)\", grid=False)"
   ]
  },
  {
   "cell_type": "markdown",
   "id": "21b76133-bf18-44d7-97c6-c27671e8e4b8",
   "metadata": {},
   "source": [
    "**Examine the Feature Maximum**"
   ]
  },
  {
   "cell_type": "markdown",
   "id": "8b3748c7-6fc5-4bdb-8c40-23eb4048cb06",
   "metadata": {},
   "source": [
    "It is crucial that, even in cases of significant class imbalance, the smallest class adheres to the established rule of thumb. There should be a limit such that the number of features does not exceed one-tenth of the smallest class size."
   ]
  },
  {
   "cell_type": "code",
   "execution_count": 10,
   "id": "4f366adb-1ad1-4cd9-9de2-22bd2534d653",
   "metadata": {},
   "outputs": [
    {
     "name": "stdout",
     "output_type": "stream",
     "text": [
      "Maximum features: 21\n"
     ]
    }
   ],
   "source": [
    "maximumfeatures = min(df.diagnosis.value_counts() / 10)\n",
    "print(f\"Maximum features: {maximumfeatures:.0f}\")"
   ]
  },
  {
   "cell_type": "markdown",
   "id": "ef6bab7e-0f3f-4ba9-b17a-39f8daa7dfee",
   "metadata": {},
   "source": [
    "**Rename Column(s)**\n",
    "\n",
    "This step renames the concave points_worst. This will allow accessing feature values via dot notation for convenience. "
   ]
  },
  {
   "cell_type": "code",
   "execution_count": 11,
   "id": "1a7b75ca-463d-4ec8-8d88-fee35e37a01b",
   "metadata": {},
   "outputs": [
    {
     "data": {
      "text/plain": [
       "Index(['id', 'diagnosis', 'radius_mean', 'texture_mean', 'perimeter_mean',\n",
       "       'area_mean', 'smoothness_mean', 'compactness_mean', 'concavity_mean',\n",
       "       'concave points_mean', 'symmetry_mean', 'fractal_dimension_mean',\n",
       "       'radius_se', 'texture_se', 'perimeter_se', 'area_se', 'smoothness_se',\n",
       "       'compactness_se', 'concavity_se', 'concave points_se', 'symmetry_se',\n",
       "       'fractal_dimension_se', 'radius_worst', 'texture_worst',\n",
       "       'perimeter_worst', 'area_worst', 'smoothness_worst',\n",
       "       'compactness_worst', 'concavity_worst', 'concave_points_worst',\n",
       "       'symmetry_worst', 'fractal_dimension_worst', 'Unnamed: 32'],\n",
       "      dtype='object')"
      ]
     },
     "execution_count": 11,
     "metadata": {},
     "output_type": "execute_result"
    }
   ],
   "source": [
    "df = df.rename({\"concave points_worst\": \"concave_points_worst\"}, axis=1)\n",
    "df.columns"
   ]
  },
  {
   "cell_type": "markdown",
   "id": "25ce5834-4afb-4827-b860-c7153088dc39",
   "metadata": {},
   "source": [
    "**Drop Unused Columns** \n",
    "\n",
    "The next step is to drop the '**id**' and the '**Unnamed: 32**' columns."
   ]
  },
  {
   "cell_type": "code",
   "execution_count": 12,
   "id": "edb75399-464e-457d-af39-753fa0750d60",
   "metadata": {},
   "outputs": [
    {
     "name": "stdout",
     "output_type": "stream",
     "text": [
      "The columns 'id'' and 'Unnamed: 32' are dropped from the data frame.\n"
     ]
    }
   ],
   "source": [
    "dropped = [\"id\", \"Unnamed: 32\"]\n",
    "df.drop(dropped, inplace=True, axis=1)\n",
    "\n",
    "print(\n",
    "    f\"The columns '{dropped[0]}'' and '{dropped[1]}' are dropped from the data frame.\"\n",
    ")"
   ]
  },
  {
   "cell_type": "code",
   "execution_count": 13,
   "id": "8124c6f3-bb14-4af3-9f1a-11962eb957f9",
   "metadata": {},
   "outputs": [
    {
     "name": "stdout",
     "output_type": "stream",
     "text": [
      "       diagnosis  radius_mean  texture_mean  perimeter_mean  area_mean  \\\n",
      "count     569.00       569.00        569.00          569.00     569.00   \n",
      "mean        0.37        14.13         19.29           91.97     654.89   \n",
      "std         0.48         3.52          4.30           24.30     351.91   \n",
      "min         0.00         6.98          9.71           43.79     143.50   \n",
      "25%         0.00        11.70         16.17           75.17     420.30   \n",
      "50%         0.00        13.37         18.84           86.24     551.10   \n",
      "75%         1.00        15.78         21.80          104.10     782.70   \n",
      "max         1.00        28.11         39.28          188.50    2501.00   \n",
      "\n",
      "       smoothness_mean  compactness_mean  concavity_mean  concave points_mean  \\\n",
      "count           569.00            569.00          569.00               569.00   \n",
      "mean              0.10              0.10            0.09                 0.05   \n",
      "std               0.01              0.05            0.08                 0.04   \n",
      "min               0.05              0.02            0.00                 0.00   \n",
      "25%               0.09              0.06            0.03                 0.02   \n",
      "50%               0.10              0.09            0.06                 0.03   \n",
      "75%               0.11              0.13            0.13                 0.07   \n",
      "max               0.16              0.35            0.43                 0.20   \n",
      "\n",
      "       symmetry_mean  ...  radius_worst  texture_worst  perimeter_worst  \\\n",
      "count         569.00  ...        569.00         569.00           569.00   \n",
      "mean            0.18  ...         16.27          25.68           107.26   \n",
      "std             0.03  ...          4.83           6.15            33.60   \n",
      "min             0.11  ...          7.93          12.02            50.41   \n",
      "25%             0.16  ...         13.01          21.08            84.11   \n",
      "50%             0.18  ...         14.97          25.41            97.66   \n",
      "75%             0.20  ...         18.79          29.72           125.40   \n",
      "max             0.30  ...         36.04          49.54           251.20   \n",
      "\n",
      "       area_worst  smoothness_worst  compactness_worst  concavity_worst  \\\n",
      "count      569.00            569.00             569.00           569.00   \n",
      "mean       880.58              0.13               0.25             0.27   \n",
      "std        569.36              0.02               0.16             0.21   \n",
      "min        185.20              0.07               0.03             0.00   \n",
      "25%        515.30              0.12               0.15             0.11   \n",
      "50%        686.50              0.13               0.21             0.23   \n",
      "75%       1084.00              0.15               0.34             0.38   \n",
      "max       4254.00              0.22               1.06             1.25   \n",
      "\n",
      "       concave_points_worst  symmetry_worst  fractal_dimension_worst  \n",
      "count                569.00          569.00                   569.00  \n",
      "mean                   0.11            0.29                     0.08  \n",
      "std                    0.07            0.06                     0.02  \n",
      "min                    0.00            0.16                     0.06  \n",
      "25%                    0.06            0.25                     0.07  \n",
      "50%                    0.10            0.28                     0.08  \n",
      "75%                    0.16            0.32                     0.09  \n",
      "max                    0.29            0.66                     0.21  \n",
      "\n",
      "[8 rows x 31 columns]\n"
     ]
    }
   ],
   "source": [
    "with pd.option_context(\"float_format\", \"{:.2f}\".format):\n",
    "    print(df.describe())"
   ]
  },
  {
   "cell_type": "markdown",
   "id": "6e1e2a17-8132-4319-b1ef-0dcf34af2312",
   "metadata": {},
   "source": [
    "**Examine Outliers**\n",
    "\n",
    "The next step is to examine a boxplot representing the mean features, identified by a predictors array, to identify and eliminate any apparent outliers. Logistic regression exhibits a notable sensitivity to outliers; therefore, it is essential to eliminate any significantly influential outliers prior to constructing the model. \n",
    "\n",
    "Given that the features do not follow a normal distribution it is more insightful to analyze the boxplot of the log-transformed z-scores."
   ]
  },
  {
   "cell_type": "code",
   "execution_count": 14,
   "id": "a5ed521c-0cd3-4e1d-8b2a-35e7ae217072",
   "metadata": {},
   "outputs": [
    {
     "data": {
      "image/png": "[encoded data removed]",
      "text/plain": [
       "<Figure size 640x480 with 1 Axes>"
      ]
     },
     "metadata": {},
     "output_type": "display_data"
    }
   ],
   "source": [
    "predictors = [\n",
    "    \"radius_mean\",\n",
    "    \"texture_mean\",\n",
    "    \"perimeter_mean\",\n",
    "    \"area_mean\",\n",
    "    \"smoothness_mean\",\n",
    "    \"compactness_mean\",\n",
    "    \"concavity_mean\",\n",
    "    \"concave points_mean\",\n",
    "    \"symmetry_mean\",\n",
    "    \"fractal_dimension_mean\",\n",
    "]\n",
    "\n",
    "sns.boxplot(data=np.log(df[predictors] + 0.01).apply(zscore))\n",
    "plt.xticks(rotation=45)\n",
    "plt.show()\n",
    "plt.close()"
   ]
  },
  {
   "cell_type": "markdown",
   "id": "9739f26a-6f0f-43af-a964-90cc20edd111",
   "metadata": {},
   "source": [
    "**Spotlights** \n",
    "\n",
    "All of the following features have outliers: **fractal_dimension_mean, smoothness_mean, symmetry_mean, texture_mean**"
   ]
  },
  {
   "cell_type": "markdown",
   "id": "970c698a-3132-4a6d-857a-178a71e85665",
   "metadata": {},
   "source": [
    "**Remove Extreme Outliers** \n",
    "\n",
    "Logistic regressions exhibit a notable sensitivity to extreme outliers, which can significantly skew the results of the analysis. The feature known as fractal_dimension_mean contains numerous extreme outliers that exceed the general distribution of its dataset.\n",
    "\n",
    "The subsequent phase will involve the elimination of any samples that exceed the 99th percentile and re-plotting the filtered data frame. "
   ]
  },
  {
   "cell_type": "code",
   "execution_count": 15,
   "id": "6263e8c4-f154-45a1-9927-69cbf1f268aa",
   "metadata": {},
   "outputs": [
    {
     "name": "stdout",
     "output_type": "stream",
     "text": [
      "Quantile: (fractal_dimension_mean) dropped from the dataset.\n",
      "\n",
      "\n"
     ]
    }
   ],
   "source": [
    "filtered_feature = \"fractal_dimension_mean\"\n",
    "\n",
    "high_quantile = df[filtered_feature].quantile(0.99)\n",
    "filtered_dataframe = df[(df[\"fractal_dimension_mean\"] < high_quantile)]\n",
    "\n",
    "print(f\"Quantile: ({filtered_feature}) dropped from the dataset.\\n\\n\")"
   ]
  },
  {
   "cell_type": "markdown",
   "id": "58234964-41cc-4640-94a5-f65011767fe1",
   "metadata": {},
   "source": [
    "**Plot Filtered Data Frame**"
   ]
  },
  {
   "cell_type": "code",
   "execution_count": 16,
   "id": "888ed6d8-0814-427a-b30d-b0b2f67a98ac",
   "metadata": {},
   "outputs": [
    {
     "data": {
      "image/png": "[encoded data removed]",
      "text/plain": [
       "<Figure size 640x480 with 1 Axes>"
      ]
     },
     "metadata": {},
     "output_type": "display_data"
    }
   ],
   "source": [
    "sns.boxplot(data=np.log(filtered_dataframe[predictors] + 0.01).apply(zscore))\n",
    "plt.xticks(rotation=45)\n",
    "plt.show()\n",
    "plt.close()"
   ]
  },
  {
   "cell_type": "markdown",
   "id": "f3763fb1-b8cd-4cb9-9ad9-b404cab56861",
   "metadata": {},
   "source": [
    "**Examine the Sigmoidal Curves**"
   ]
  },
  {
   "cell_type": "markdown",
   "id": "f4dcf2c7-79a7-45f8-8e69-fe2b1d1d7eeb",
   "metadata": {},
   "source": [
    "The fundamental premise of logistic regression is that there exists a linear relationship between the features and the logit of the dependent variable. To visually assess this relationship, one can utilize Seaborn's ```regplot``` setting the parameter **logistic** to **True** and selecting our feature of interest as the **x value**. When this condition is satisfied, the resulting fitted model will exhibit a sigmoidal curve. \n",
    "\n",
    "The next step is to create another plot using the feature **fractal_dimension_mean**"
   ]
  },
  {
   "cell_type": "code",
   "execution_count": 17,
   "id": "e8998650-4263-4a86-820c-1e85aa5624fc",
   "metadata": {},
   "outputs": [
    {
     "data": {
      "image/png": "[encoded data removed]",
      "text/plain": [
       "<Figure size 640x480 with 1 Axes>"
      ]
     },
     "metadata": {},
     "output_type": "display_data"
    },
    {
     "data": {
      "image/png": "[encoded data removed]",
      "text/plain": [
       "<Figure size 640x480 with 1 Axes>"
      ]
     },
     "metadata": {},
     "output_type": "display_data"
    }
   ],
   "source": [
    "sns.regplot(\n",
    "    x=\"radius_mean\",\n",
    "    y=\"diagnosis\",\n",
    "    data=df,\n",
    "    logistic=True,\n",
    ")\n",
    "\n",
    "plt.show()\n",
    "plt.close()\n",
    "sns.regplot(x=\"fractal_dimension_mean\", y=\"diagnosis\", data=df, logistic=True)\n",
    "plt.show()\n",
    "plt.close()"
   ]
  },
  {
   "cell_type": "markdown",
   "id": "56a37980-b22f-4c5f-8240-5421ceed6471",
   "metadata": {},
   "source": [
    "**Spotlights** \n",
    "\n",
    "When x is set to radius_mean feature the sigmodial curve is evident unlike the fractal_dimension_mean feature."
   ]
  },
  {
   "cell_type": "markdown",
   "id": "39e48c57-48f6-4b14-9731-f7102fbdb0ab",
   "metadata": {},
   "source": [
    "**Examine Strong Correlations to 'radius_mean'**\n",
    "\n",
    "Utilize a heatmap to determine the two features that exhibit a strong correlation with radius_mean."
   ]
  },
  {
   "cell_type": "code",
   "execution_count": 18,
   "id": "fdaad832-f410-4ea9-8cae-950d512c6581",
   "metadata": {},
   "outputs": [
    {
     "data": {
      "text/plain": [
       "<Axes: title={'center': 'All Correlations'}>"
      ]
     },
     "execution_count": 18,
     "metadata": {},
     "output_type": "execute_result"
    },
    {
     "data": {
      "image/png": "[encoded data removed]",
      "text/plain": [
       "<Figure size 1100x1100 with 2 Axes>"
      ]
     },
     "metadata": {},
     "output_type": "display_data"
    }
   ],
   "source": [
    "# Specify size and title for visualization\n",
    "f, axes = plt.subplots(figsize=(11, 11))\n",
    "plt.title(\"All Correlations\", fontsize=21)\n",
    "\n",
    "# Use Seaborn to plot the correlation matrix as a hetamap\n",
    "sns.heatmap(\n",
    "    df[predictors].corr(),\n",
    "    linewidths=3.0,\n",
    "    square=True,\n",
    "    cmap=\"viridis\",\n",
    "    linecolor=\"w\",\n",
    "    annot=True,\n",
    "    annot_kws={\"size\": 8},\n",
    "    cbar_kws={\"shrink\": 0.5},\n",
    ")"
   ]
  },
  {
   "cell_type": "markdown",
   "id": "d79ac45e-dab7-40f2-bc23-071c0a708580",
   "metadata": {},
   "source": [
    "**Spotlights**\n",
    "\n",
    "- The heatmap indicates a strong positive correlation among **radius_mean, perimeter_mean, and concave_points_mean**. To mitigate the risk of multicollinearity, it would be advantageous to retain only one of these three features.\n",
    "- The variables **'concavity_mean'** and **'compactness_mean'** represent another pair that exhibits a considerable correlation."
   ]
  },
  {
   "cell_type": "markdown",
   "id": "967d2be3-162a-45d3-8cb5-773336e455c6",
   "metadata": {},
   "source": [
    "## Train a Logistic Regression Model"
   ]
  },
  {
   "cell_type": "markdown",
   "id": "a9472095-a14a-4a0b-90e1-38dceb70fcd4",
   "metadata": {},
   "source": [
    "**Split the Data Into Training and Test Sets**"
   ]
  },
  {
   "cell_type": "code",
   "execution_count": 19,
   "id": "e07b0f59-e8b0-4a10-b600-81400932087b",
   "metadata": {},
   "outputs": [
    {
     "name": "stdout",
     "output_type": "stream",
     "text": [
      "Original dataset:\n",
      " (569, 31)\n",
      "-------------------------------\n",
      "Training features: \n",
      "(398, 10)\n",
      "Testing features: \n",
      "(171, 10)\n",
      "Training labels: \n",
      "(398,)\n",
      "Testing labels: \n",
      "(171,)\n"
     ]
    }
   ],
   "source": [
    "x_train, x_test, y_train, y_test = train_test_split(\n",
    "    df[predictors], df[\"diagnosis\"], random_state=0, test_size=0.3\n",
    ")\n",
    "\n",
    "print(f\"Original dataset:\\n {df.shape}\")\n",
    "print(\"-------------------------------\")\n",
    "print(f\"Training features: \\n{x_train.shape}\")\n",
    "print(f\"Testing features: \\n{x_test.shape}\")\n",
    "print(f\"Training labels: \\n{y_train.shape}\")\n",
    "print(f\"Testing labels: \\n{y_test.shape}\")"
   ]
  },
  {
   "cell_type": "markdown",
   "id": "a96e39d3-6db4-4960-adeb-60f7433ca1e2",
   "metadata": {},
   "source": [
    "**Create Logistic Regression Model**"
   ]
  },
  {
   "cell_type": "code",
   "execution_count": 20,
   "id": "658ff7f2-2f5f-4462-b772-3a2d76e7f3c4",
   "metadata": {},
   "outputs": [
    {
     "name": "stdout",
     "output_type": "stream",
     "text": [
      "Model Parameters:\n",
      "\n",
      "{'C': 1.0, 'class_weight': None, 'dual': False, 'fit_intercept': True, 'intercept_scaling': 1, 'l1_ratio': None, 'max_iter': 100, 'multi_class': 'auto', 'n_jobs': None, 'penalty': 'none', 'random_state': None, 'solver': 'newton-cg', 'tol': 1e-07, 'verbose': 0, 'warm_start': False}\n",
      "\n"
     ]
    }
   ],
   "source": [
    "logistic_regression_model = LogisticRegression(\n",
    "    penalty=\"none\", fit_intercept=True, tol=0.0000001, solver=\"newton-cg\"\n",
    ")\n",
    "\n",
    "print(f\"Model Parameters:\\n\\n{logistic_regression_model.get_params()}\\n\")"
   ]
  },
  {
   "cell_type": "markdown",
   "id": "17e30006-a4bf-4ab6-adb8-6bbc57daf9da",
   "metadata": {},
   "source": [
    "**Score Logistic Regression Model**"
   ]
  },
  {
   "cell_type": "markdown",
   "id": "10387f11-493b-4a38-95c8-2ea075190f5a",
   "metadata": {},
   "source": [
    "**Fit the Model**"
   ]
  },
  {
   "cell_type": "code",
   "execution_count": 21,
   "id": "22b85e8f-089a-48d0-8497-02c89ff28fe6",
   "metadata": {},
   "outputs": [
    {
     "name": "stdout",
     "output_type": "stream",
     "text": [
      "Logistic Regression model took: 0.09 milliseconds to fit\n",
      "Logistic Regression model score on test set: 94%\n"
     ]
    }
   ],
   "source": [
    "logrstart = time()\n",
    "logistic_regression_model.fit(x_train, y_train)\n",
    "logrend = time()\n",
    "lr_train_time = logrend - logrstart\n",
    "# Score the model\n",
    "lrgscore = logistic_regression_model.score(x_test, y_test)\n",
    "\n",
    "print(\n",
    "    \"Logistic Regression model took: {:.2f} milliseconds to fit\".format(lr_train_time)\n",
    ")\n",
    "print(\"Logistic Regression model score on test set: {:.0f}%\".format(lrgscore * 100))"
   ]
  },
  {
   "cell_type": "markdown",
   "id": "eb379e84-2ccc-4c15-aec0-0cd63d606c35",
   "metadata": {},
   "source": [
    "**Procure Coefficients and Intercept**"
   ]
  },
  {
   "cell_type": "code",
   "execution_count": 22,
   "id": "61b03716-83b1-49cb-9c2f-2728236d4d42",
   "metadata": {
    "scrolled": true
   },
   "outputs": [
    {
     "name": "stdout",
     "output_type": "stream",
     "text": [
      "\n",
      "coefficeints:  [[-2.51046302e+00  3.66070256e-01  1.16427680e-01  2.92251406e-02\n",
      "   7.98693814e+01  2.48942620e+00  8.73784308e+00  6.08799323e+01\n",
      "   1.48655732e+01 -9.49986821e+01]]\n",
      "\n",
      "intercept:  [-9.71534744] \n",
      "\n"
     ]
    }
   ],
   "source": [
    "coefficients = logistic_regression_model.coef_\n",
    "intercept = logistic_regression_model.intercept_\n",
    "\n",
    "print(\"\\ncoefficeints: \", coefficients)\n",
    "print(\"\\nintercept: \", intercept, \"\\n\")"
   ]
  },
  {
   "cell_type": "markdown",
   "id": "56b16730-bd88-4b8d-abca-4ecb356c5ae2",
   "metadata": {},
   "source": [
    "## Performance Metrics"
   ]
  },
  {
   "cell_type": "markdown",
   "id": "2657a0b4-265d-4735-8e6e-5ab0b436be11",
   "metadata": {},
   "source": [
    "**Compute Accuracy, Precision, Recall, and F1-score**\n",
    "\n",
    "Determine each score in order to evaluate the performance on the testing data."
   ]
  },
  {
   "cell_type": "code",
   "execution_count": 23,
   "id": "da24ddd8-c7c3-432d-958b-c0b2b9ccdc36",
   "metadata": {},
   "outputs": [
    {
     "name": "stdout",
     "output_type": "stream",
     "text": [
      "\n",
      "Test set accuracy:\t0.9415204678362573\n",
      "Test set precision:\t0.9491525423728814\n",
      "Test set recall:\t0.8888888888888888\n",
      "Test set f1-score:\t0.9180327868852458\n",
      "\n"
     ]
    }
   ],
   "source": [
    "y_prediction = logistic_regression_model.predict(x_test)\n",
    "accuracy = accuracy_score(y_test, y_prediction)\n",
    "precision = precision_score(y_test, y_prediction)\n",
    "recall = recall_score(y_test, y_prediction)\n",
    "f1 = f1_score(y_test, y_prediction)\n",
    "\n",
    "# Print scores\n",
    "print(f\"\\nTest set accuracy:\\t{accuracy}\")\n",
    "print(f\"Test set precision:\\t{precision}\")\n",
    "print(f\"Test set recall:\\t{recall}\")\n",
    "print(f\"Test set f1-score:\\t{f1}\\n\")"
   ]
  },
  {
   "cell_type": "markdown",
   "id": "97b78c44-20d0-43e6-a780-3f71475c605c",
   "metadata": {},
   "source": [
    "In our breast cancer dataset, it is crucial to classify all malignant cases accurately as malignant. While some benign cases may be incorrectly identified as malignant, these discrepancies are likely to be addressed through subsequent testing. Conversely, failing to identify a malignant case by labeling it as benign could lead to severe and potentially fatal outcomes. Therefore, **our primary objective is to reduce the occurrence of false negatives, which will enhance the recall ratio, also referred to as sensitivity or the true positive rate**."
   ]
  },
  {
   "cell_type": "markdown",
   "id": "838b0985-a6e5-4e0c-a025-79d0c1afc147",
   "metadata": {},
   "source": [
    "**Create Function to Graph Confusion Matrix**"
   ]
  },
  {
   "cell_type": "code",
   "execution_count": 24,
   "id": "1dba51d5-05be-4d26-b116-b65643129277",
   "metadata": {},
   "outputs": [
    {
     "name": "stdout",
     "output_type": "stream",
     "text": [
      "Defined confusion matrix graphinf function.\n"
     ]
    }
   ],
   "source": [
    "# Confusion Matrix Graphing Function\n",
    "\n",
    "\n",
    "def graph_confusion_matrix(y, predictions, color=\"Blues\"):\n",
    "    matrix = confusion_matrix(y, predictions)\n",
    "\n",
    "    ax = plt.subplot()\n",
    "\n",
    "    sns.set(font_scale=1.2)\n",
    "    sns.heatmap(matrix, annot=True, fmt=\"g\", ax=ax, cmap=color)\n",
    "    ax.set_title(\"Confusion Matrix\")\n",
    "    ax.set_xlabel(\"Predicition\", fontsize=18)\n",
    "    ax.set_ylabel(\"Actual\", fontsize=18)\n",
    "    ax.xaxis.set_ticklabels([\"Benign (0)\", \"Malignant (1)\"], fontsize=12, va=\"center\")\n",
    "    ax.yaxis.set_ticklabels([\"Benign (0)\", \"Malignant (1)\"], fontsize=12, va=\"center\")\n",
    "\n",
    "\n",
    "print(\"Defined confusion matrix graphinf function.\")"
   ]
  },
  {
   "cell_type": "markdown",
   "id": "c524ae4c-7b3d-4021-ae1d-104605c27574",
   "metadata": {},
   "source": [
    "**Test Confusion Matrix**"
   ]
  },
  {
   "cell_type": "code",
   "execution_count": 25,
   "id": "ae536153-6988-4129-aa95-a8419657eb0b",
   "metadata": {},
   "outputs": [
    {
     "name": "stdout",
     "output_type": "stream",
     "text": [
      "            predicted - no  predicted - yes\n",
      "actual no              105                3\n",
      "actual yes               7               56\n"
     ]
    }
   ],
   "source": [
    "test_conf_matrix = pd.DataFrame(\n",
    "    confusion_matrix(y_test, y_prediction),\n",
    "    index=[\"actual no\", \"actual yes\"],\n",
    "    columns=[\"predicted - no\", \"predicted - yes\"],\n",
    ")\n",
    "\n",
    "print(test_conf_matrix)"
   ]
  },
  {
   "cell_type": "markdown",
   "id": "3725674e-25eb-4cdf-acb0-7c383a131bbc",
   "metadata": {},
   "source": [
    "**Spotlights**\n",
    "\n",
    "Among the 171 samples analyzed, 161 were accurately predicted, comprising 105 and 56 correct classifications.\n",
    "\n",
    "In this assessment, seven individuals were incorrectly informed that their tumors were benign when, in fact, they were malignant, resulting in false negatives. Additionally, 3 individuals were mistakenly told their tumors were malignant, while they were actually benign, leading to false positives.\n",
    "\n",
    "While the model demonstrated a reasonable level of accuracy, there remains room for enhancement, which is particularly important in the context of medical care."
   ]
  },
  {
   "cell_type": "markdown",
   "id": "54f710b9-f962-4e1b-ab06-d2089d555ff1",
   "metadata": {},
   "source": [
    "## Threshold Enhancement\n",
    "\n",
    "**Get the Predicted Probabilities**"
   ]
  },
  {
   "cell_type": "code",
   "execution_count": 26,
   "id": "a810d409-2118-4f21-bfc9-261cc5864543",
   "metadata": {},
   "outputs": [],
   "source": [
    "y_prediction_probabilities = logistic_regression_model.predict_proba(x_test)"
   ]
  },
  {
   "cell_type": "markdown",
   "id": "71b0d1b9-764a-44e5-8ae2-82712c449cd8",
   "metadata": {},
   "source": [
    "**Utilize the Forecasted Probabilities to Determine the Predicted Class**"
   ]
  },
  {
   "cell_type": "code",
   "execution_count": 27,
   "id": "bd776e3d-1ff6-499c-945c-000fc20520a4",
   "metadata": {},
   "outputs": [],
   "source": [
    "y_prediction_class = (y_prediction_probabilities[:, 1] > 0.5) * 1.0"
   ]
  },
  {
   "cell_type": "markdown",
   "id": "3dca9864-71ea-434b-a4d1-e5b09d029fb6",
   "metadata": {},
   "source": [
    "**Verify Whether y_prediction_class Matches y_prediction**"
   ]
  },
  {
   "cell_type": "code",
   "execution_count": 28,
   "id": "ac1b6d9a-1178-4853-b492-c63ff8dd31fe",
   "metadata": {},
   "outputs": [
    {
     "name": "stdout",
     "output_type": "stream",
     "text": [
      "\n",
      "Is the value of y_prediction_class the same as that of y_prediction?  True\n",
      "\n"
     ]
    }
   ],
   "source": [
    "difference = np.array_equal(y_prediction_class, y_prediction)\n",
    "difference = np.array_equal(y_prediction_class, y_prediction)\n",
    "\n",
    "print(\n",
    "    f\"\\nIs the value of y_prediction_class the same as that of y_prediction?  {difference}\\n\"\n",
    ")"
   ]
  },
  {
   "cell_type": "markdown",
   "id": "efa39090-9528-45f9-84a2-79a726066807",
   "metadata": {},
   "source": [
    "**Confusion Matrix - Threshold Value: default - 0.05**\n",
    "\n",
    "To assess the performance of the model, it is essential to compute the confusion matrices for various threshold levels. Presented here is the confusion matrix from the previous analysis, utilizing the standard threshold."
   ]
  },
  {
   "cell_type": "code",
   "execution_count": 29,
   "id": "e0f41acb-ad62-4ad5-bd53-2798b043b016",
   "metadata": {},
   "outputs": [
    {
     "name": "stdout",
     "output_type": "stream",
     "text": [
      "Confusion Matrix: Threshold 50%\n",
      "[[105   3]\n",
      " [  7  56]]\n"
     ]
    }
   ],
   "source": [
    "print(\"Confusion Matrix: Threshold 50%\")\n",
    "\n",
    "confusion_matrix50 = confusion_matrix(y_test, y_prediction_class)\n",
    "\n",
    "print(confusion_matrix50)"
   ]
  },
  {
   "cell_type": "markdown",
   "id": "f3b4dc9c-d1c9-4dc5-9fe4-3cf85227ec6f",
   "metadata": {},
   "source": [
    "**Graph Threshold 50% Confusion Matrix**"
   ]
  },
  {
   "cell_type": "code",
   "execution_count": 30,
   "id": "82c9ba32-5074-4ef3-b773-c13245d554f3",
   "metadata": {},
   "outputs": [
    {
     "data": {
      "image/png": "[encoded data removed]",
      "text/plain": [
       "<Figure size 640x480 with 2 Axes>"
      ]
     },
     "metadata": {},
     "output_type": "display_data"
    }
   ],
   "source": [
    "graph_confusion_matrix(y_test, y_prediction_class)"
   ]
  },
  {
   "cell_type": "markdown",
   "id": "ff17b2bc-07d0-4805-92d1-b9a7f82bc363",
   "metadata": {},
   "source": [
    "**Confusion Matrices Corresponding to Threshold Value: 0.25**"
   ]
  },
  {
   "cell_type": "code",
   "execution_count": 31,
   "id": "57d6ded8-9d01-4eea-97dd-a4b37badb059",
   "metadata": {},
   "outputs": [
    {
     "name": "stdout",
     "output_type": "stream",
     "text": [
      "Confusion Matrix: Threshold 25%\n",
      "[[97 11]\n",
      " [ 6 57]]\n"
     ]
    }
   ],
   "source": [
    "print(\"Confusion Matrix: Threshold 25%\")\n",
    "\n",
    "confusion_matrix25 = confusion_matrix(\n",
    "    y_test, (y_prediction_probabilities[:, 1] > 0.25) * 1.0\n",
    ")\n",
    "print(confusion_matrix25)"
   ]
  },
  {
   "cell_type": "markdown",
   "id": "f901f665-2d7c-4d94-8453-fad18c69bfba",
   "metadata": {},
   "source": [
    "**Graph Threshold 25% Confusion Matrix**"
   ]
  },
  {
   "cell_type": "code",
   "execution_count": 32,
   "id": "257e802b-d834-47b8-a033-73a03b76e8de",
   "metadata": {},
   "outputs": [
    {
     "data": {
      "image/png": "[encoded data removed]",
      "text/plain": [
       "<Figure size 640x480 with 2 Axes>"
      ]
     },
     "metadata": {},
     "output_type": "display_data"
    }
   ],
   "source": [
    "graph_confusion_matrix(y_test, (y_prediction_probabilities[:, 1] > 0.25) * 1.0, \"crest\")"
   ]
  },
  {
   "cell_type": "markdown",
   "id": "8028556b-1d5f-4826-a90f-165ea0399c54",
   "metadata": {},
   "source": [
    "**Spotlights** \n",
    "\n",
    "Among the 171 samples analyzed, 154 were accurately predicted, comprising 97 and 57 correct classifications. Six individuals were incorrectly informed that their tumors were benign when, in fact, they were malignant. 11 individuals were mistakenly told their tumors were malignant, while they were actually benign."
   ]
  },
  {
   "cell_type": "markdown",
   "id": "b4fdaecd-08b4-464a-aef9-8b22481fee79",
   "metadata": {},
   "source": [
    "**Confusion Matrices Corresponding to Threshold Value: 0.75**"
   ]
  },
  {
   "cell_type": "code",
   "execution_count": 33,
   "id": "142af87c-f0fa-4929-aab1-2b51133d1aea",
   "metadata": {},
   "outputs": [
    {
     "name": "stdout",
     "output_type": "stream",
     "text": [
      "\n",
      "Confusion Matrix: Threshold 75%\n",
      "[[108   0]\n",
      " [  8  55]]\n"
     ]
    }
   ],
   "source": [
    "print(\"\\nConfusion Matrix: Threshold 75%\")\n",
    "\n",
    "confusion_matrix75 = confusion_matrix(\n",
    "    y_test, (y_prediction_probabilities[:, 1] > 0.75) * 1.0\n",
    ")\n",
    "\n",
    "print(confusion_matrix75)"
   ]
  },
  {
   "cell_type": "markdown",
   "id": "4a1381f0-b31f-4e1d-b39d-288dad8f4758",
   "metadata": {},
   "source": [
    "**Graph Threshold 75% Confusion Matrix**"
   ]
  },
  {
   "cell_type": "code",
   "execution_count": 34,
   "id": "01441baa-87f4-41d8-abec-d7716d3e7c3b",
   "metadata": {},
   "outputs": [
    {
     "data": {
      "image/png": "[encoded data removed]",
      "text/plain": [
       "<Figure size 640x480 with 2 Axes>"
      ]
     },
     "metadata": {},
     "output_type": "display_data"
    }
   ],
   "source": [
    "graph_confusion_matrix(y_test, (y_prediction_probabilities[:, 1] > 0.75) * 1.0, \"flare\")"
   ]
  },
  {
   "cell_type": "markdown",
   "id": "f54c1dfd-9908-4741-a06b-9149b5a8d75b",
   "metadata": {},
   "source": [
    "Among the 171 samples analyzed, 163 were accurately predicted, comprising 108 and 55 correct classifications. Eight individuals were incorrectly informed that their tumors were benign when, in fact, they were malignant. Zero individuals were mistakenly told their tumors were malignant, while they were actually benign."
   ]
  },
  {
   "cell_type": "markdown",
   "id": "fb0985cb-576b-4eca-b42a-0e66a718bd92",
   "metadata": {},
   "source": [
    "**Determining the Appropriate Threshold for a Query**\n",
    "\n",
    "In this classification problem, the desire is to minimize the number of false negatives, i.e., correctly catch as many malignant cases as possible. Specifically, the goal is to set a threshold such that no more than 2 malignancies are misidentified, i.e., no more than 2 false negatives are allowed."
   ]
  },
  {
   "cell_type": "code",
   "execution_count": 35,
   "id": "cda10efe-9c58-4128-a6a5-28638da6fd0f",
   "metadata": {},
   "outputs": [
    {
     "name": "stdout",
     "output_type": "stream",
     "text": [
      "Threshold Choice: 0.13131313131313133\n"
     ]
    }
   ],
   "source": [
    "# Thresholds array\n",
    "thresholds = np.linspace(0, 1, 100)\n",
    "false_negatives = []\n",
    "\n",
    "for t in thresholds:\n",
    "    cm = confusion_matrix(y_test, (y_prediction_probabilities[:, 1] > t) * 1.0)\n",
    "    false_negatives.append(cm[1][0])\n",
    "threshold_choice = thresholds[np.argmax(np.array(false_negatives) >= 2)]\n",
    "print(f\"Threshold Choice: {threshold_choice}\")"
   ]
  },
  {
   "cell_type": "markdown",
   "id": "994cdaf6-e0a7-48f2-a9f7-cf571a1eb626",
   "metadata": {},
   "source": [
    "## Observe the ROC AUC Score\n",
    "\n",
    "A single model can generate a range of predictions by incrementally adjusting the threshold from zero to one. For each threshold, it is possible to compute the True Positive Rate (TPR) and the False Positive Rate (FPR), which can then be visualized in a plot. The collection of these points creates what is referred to as the **Receiver Operating Characteristic (ROC) curve**."
   ]
  },
  {
   "cell_type": "code",
   "execution_count": 36,
   "id": "92cb293d-eb91-4214-9569-f1e9b2b6922a",
   "metadata": {},
   "outputs": [
    {
     "data": {
      "image/png": "[encoded data removed]",
      "text/plain": [
       "<Figure size 640x480 with 1 Axes>"
      ]
     },
     "metadata": {},
     "output_type": "display_data"
    }
   ],
   "source": [
    "false_positive_rate, true_positive_rate, thresholds = roc_curve(\n",
    "    y_test, y_prediction_probabilities[:, 1]\n",
    ")\n",
    "\n",
    "plt.figure()\n",
    "plt.plot(false_positive_rate, true_positive_rate, color=\"darkorange\", label=\"ROC curve\")\n",
    "idx = list(range(len(thresholds)))[1::4]\n",
    "\n",
    "for i in idx:\n",
    "    plt.text(false_positive_rate[i], true_positive_rate[i], thresholds[i].round(2))\n",
    "\n",
    "classifier = DummyClassifier(strategy=\"most_frequent\", random_state=0)\n",
    "classifier.fit(x_train, y_train)\n",
    "roc_auc = roc_auc_score(y_test, classifier.predict_proba(x_test)[:, 1])\n",
    "false_positive_rate, true_positive_rate, thresholds = roc_curve(\n",
    "    y_test, classifier.predict_proba(x_test)[:, 1]\n",
    ")\n",
    "\n",
    "plt.plot(\n",
    "    false_positive_rate,\n",
    "    true_positive_rate,\n",
    "    color=\"navy\",\n",
    "    linestyle=\"--\",\n",
    "    label=\"Dummy Classifier (most frequent) \\n (area = %0.2f)\" % roc_auc,\n",
    ")\n",
    "plt.xlabel(\"False Positive Rate\")\n",
    "plt.ylabel(\"True Positive Rate\")\n",
    "plt.title(\"ROC Curve\")\n",
    "plt.grid()\n",
    "plt.legend(loc=\"lower right\")\n",
    "plt.show()"
   ]
  },
  {
   "cell_type": "markdown",
   "id": "23c8fdc9-a7db-47ba-8ed7-9845b22d8910",
   "metadata": {},
   "source": [
    "**Spotlights** \n",
    "\n",
    "_maximum threshold: 0.69_ **_minimum threshold: 0.12_**\n",
    "\n",
    "For our classification challenge, a lower threshold around 0.12 appears to be the most suitable, as it would enhance the True Positive Rate, allowing for a more accurate diagnosis of malignant tumors. Our objective is to achieve an AUC score nearing 1, which would signify that the model effectively distinguishes between malignant and benign tumors."
   ]
  },
  {
   "cell_type": "markdown",
   "id": "1b0fcd0b-9143-422b-89db-185f69cdd008",
   "metadata": {},
   "source": [
    "**Determine Which Threshold is best for this Classification Problem**"
   ]
  },
  {
   "cell_type": "markdown",
   "id": "e00e6dda-75ad-4f45-a60d-e60e4c4a50d1",
   "metadata": {},
   "source": [
    "While the ROC curve provides insights into the probabilities, the **Area Under the Curve (AUC) serves as a consolidated metric for assessing the model's ability to differentiate between classes**. A high AUC score, approaching 1, indicates an almost perfect classifier, while a score of 0.5 suggests performance equivalent to random chance. \n",
    "\n",
    "The specific threshold values are not directly identifiable from the curve, prompting the labeling of two thresholds for clarity. Additionally, the ROC curve of a \"**dummy classifier**\", which **predicts that all instances belong to the more prevalent class**, has also been included for comparison."
   ]
  },
  {
   "cell_type": "markdown",
   "id": "b86bf5d7-e05f-4666-9d89-7e237bc39069",
   "metadata": {},
   "source": [
    "**Determine ROC AUC Score**"
   ]
  },
  {
   "cell_type": "code",
   "execution_count": 37,
   "id": "be05b1c5-7f63-4fce-a964-972d2b5aec03",
   "metadata": {},
   "outputs": [
    {
     "name": "stdout",
     "output_type": "stream",
     "text": [
      "ROC AUC score: 0.9867724867724869\n"
     ]
    }
   ],
   "source": [
    "roc_auc = roc_auc_score(y_test, y_prediction_probabilities[:, 1])\n",
    "print(f\"ROC AUC score: {roc_auc}\")"
   ]
  },
  {
   "cell_type": "markdown",
   "id": "ea9011f5-4729-4e3b-9e89-1151d81bb0bf",
   "metadata": {},
   "source": [
    "## Examine Class Imbalance"
   ]
  },
  {
   "cell_type": "markdown",
   "id": "b69f1e32-24f7-4166-8216-fc5af209785b",
   "metadata": {},
   "source": [
    "**Train and Test Positivity Rate**\n",
    "\n",
    "The positivity rate serves as an indicator of the balance within the classes. It represents the frequency of the positive class's occurrence. In the context of the breast cancer dataset, the positivity rate can be calculated using the _formula_: **Positivity Rate = Total Malignant Cases / Total Cases**. A positivity **rate nearing 0.5** or 50% suggests that our classes are well-balanced."
   ]
  },
  {
   "cell_type": "code",
   "execution_count": 38,
   "id": "e951f02a-4a2d-4e41-be97-e28d11dd9e1c",
   "metadata": {},
   "outputs": [
    {
     "name": "stdout",
     "output_type": "stream",
     "text": [
      "Train positivity rate: \n",
      "0.3743718592964824 \n",
      "\n",
      "Test positivity rate:\n",
      "0.3684210526315789 \n",
      "\n"
     ]
    }
   ],
   "source": [
    "print(\"Train positivity rate: \")\n",
    "print(sum(y_train) / y_train.shape[0], \"\\n\")\n",
    "\n",
    "print(\"Test positivity rate:\")\n",
    "print(sum(y_test) / y_test.shape[0], \"\\n\")"
   ]
  },
  {
   "cell_type": "markdown",
   "id": "d6006e60-90fb-49e7-b0fa-e92cb0028aff",
   "metadata": {},
   "source": [
    "### Stratification\n",
    "\n",
    "When dealing with imbalanced classes, which is more common in smaller datasets, the disparity can become more pronounced after dividing the data into training and testing sets. To address this issue, one effective approach is to implement random splitting with stratification based on class labels. **Stratification involves organizing the data into subgroups to maintain a nearly uniform distribution of classes across both the training and testing datasets**. By applying stratification, the positivity rates in the training and testing sets should closely align, although it is important to note that this method does not guarantee that the positivity rate will approach 0.5."
   ]
  },
  {
   "cell_type": "markdown",
   "id": "8546e32f-655c-4cb0-a7fb-dd400af9dcbb",
   "metadata": {},
   "source": [
    "**Stratified Sampling**\n",
    "\n",
    "The next step creates a stratified train-test sample."
   ]
  },
  {
   "cell_type": "code",
   "execution_count": 39,
   "id": "71f77d01-61d1-4633-b02b-20e425c4b3f7",
   "metadata": {},
   "outputs": [],
   "source": [
    "x_train_str, x_test_str, y_train_str, y_test_str = train_test_split(\n",
    "    df[predictors],\n",
    "    df[\"diagnosis\"],\n",
    "    random_state=6,\n",
    "    test_size=0.3,\n",
    "    stratify=df[\"diagnosis\"],\n",
    ")"
   ]
  },
  {
   "cell_type": "markdown",
   "id": "a635f7a9-5191-4f4b-bcf6-96446ac1d965",
   "metadata": {},
   "source": [
    "**Examine Stratified Positivity Rates**"
   ]
  },
  {
   "cell_type": "code",
   "execution_count": 40,
   "id": "e667ae4e-b5d7-4fa6-a16b-e408d2ca8d7b",
   "metadata": {},
   "outputs": [
    {
     "name": "stdout",
     "output_type": "stream",
     "text": [
      "Stratified train positivity rate: \n",
      "0.37185929648241206 \n",
      "\n",
      "Stratified test positivity rate: \n",
      "0.3742690058479532 \n",
      "\n"
     ]
    }
   ],
   "source": [
    "print(\"Stratified train positivity rate: \")\n",
    "\n",
    "str_train_positivity_rate = sum(y_train_str) / y_train_str.shape[0]\n",
    "print(str_train_positivity_rate, \"\\n\")\n",
    "\n",
    "print(\"Stratified test positivity rate: \")\n",
    "str_test_positivity_rate = sum(y_test_str) / y_test_str.shape[0]\n",
    "\n",
    "print(str_test_positivity_rate, \"\\n\")"
   ]
  },
  {
   "cell_type": "markdown",
   "id": "62d65e06-61ba-43c3-9cd9-a6b9463e0042",
   "metadata": {},
   "source": [
    "**Model predictions Post Stratified Sampling**"
   ]
  },
  {
   "cell_type": "code",
   "execution_count": 41,
   "id": "9b9689c2-6bb5-4be5-9d50-d687026d45eb",
   "metadata": {},
   "outputs": [
    {
     "name": "stdout",
     "output_type": "stream",
     "text": [
      "Stratified Sampling: Recall and Accuracy scores\n",
      "0.9375 0.9590643274853801\n"
     ]
    }
   ],
   "source": [
    "logistic_regression_model.fit(x_train_str, y_train_str)\n",
    "\n",
    "y_pred = logistic_regression_model.predict(x_test_str)\n",
    "\n",
    "recall_str = recall_score(y_test_str, y_pred)\n",
    "\n",
    "accuracy_str = accuracy_score(y_test_str, y_pred)\n",
    "\n",
    "print(\"Stratified Sampling: Recall and Accuracy scores\")\n",
    "print(recall_str, accuracy_str)"
   ]
  },
  {
   "cell_type": "markdown",
   "id": "7f23a3c4-8731-45c1-8392-e5a10719bc01",
   "metadata": {},
   "source": [
    "**Balance Class Weights**"
   ]
  },
  {
   "cell_type": "code",
   "execution_count": 42,
   "id": "0c25213f-e21b-4d86-bc40-fc69258da9a6",
   "metadata": {},
   "outputs": [],
   "source": [
    "balanced_logistic_regression_model = LogisticRegression(\n",
    "    penalty=\"none\",\n",
    "    max_iter=1000,\n",
    "    fit_intercept=True,\n",
    "    tol=0.000001,\n",
    "    class_weight=\"balanced\",\n",
    ")"
   ]
  },
  {
   "cell_type": "markdown",
   "id": "442659a6-3dad-459a-a704-fcc0efad4521",
   "metadata": {},
   "source": [
    "**Examine Model Predictions Post Balancing Class Weights**"
   ]
  },
  {
   "cell_type": "code",
   "execution_count": 43,
   "id": "a21731e1-0971-49ff-89e1-5c9955b26e9c",
   "metadata": {},
   "outputs": [
    {
     "name": "stdout",
     "output_type": "stream",
     "text": [
      "Balanced Class Weights: Recall and Accuracy scores\n",
      "\n",
      "Recall: 0.9206349206349206\n",
      "Accuracy: 0.9239766081871345\n"
     ]
    }
   ],
   "source": [
    "balanced_logistic_regression_model.fit(x_train, y_train)\n",
    "y_pred = balanced_logistic_regression_model.predict(x_test)\n",
    "\n",
    "recall_balance = recall_score(y_test, y_pred)\n",
    "accuracy_balance = accuracy_score(y_test, y_pred)\n",
    "print(\"Balanced Class Weights: Recall and Accuracy scores\\n\")\n",
    "print(f\"Recall: {recall_balance}\")\n",
    "print(f\"Accuracy: {accuracy_balance}\")"
   ]
  },
  {
   "cell_type": "markdown",
   "id": "1e1449ec-af1f-4beb-841b-dd7f1798c042",
   "metadata": {},
   "source": [
    "### Determine Which Model Performs Best\n",
    "\n",
    "**Initial Model**"
   ]
  },
  {
   "cell_type": "code",
   "execution_count": 44,
   "id": "d1935724-2397-4e6d-9ec2-0a72fb489413",
   "metadata": {},
   "outputs": [
    {
     "name": "stdout",
     "output_type": "stream",
     "text": [
      "Inital Model: Recall and Accuracy scores\n",
      "\n",
      "Recall: 0.8888888888888888\n",
      "Accuracy: 0.9415204678362573\n"
     ]
    }
   ],
   "source": [
    "print(\"Inital Model: Recall and Accuracy scores\\n\")\n",
    "print(f\"Recall: {recall}\")\n",
    "print(f\"Accuracy: {accuracy}\")"
   ]
  },
  {
   "cell_type": "markdown",
   "id": "a55fe1f0-e168-494a-8868-869a1cff7ef3",
   "metadata": {},
   "source": [
    "**Stratified Sampling Model**"
   ]
  },
  {
   "cell_type": "code",
   "execution_count": 45,
   "id": "be01523b-8e09-441e-b251-4f77ede4949c",
   "metadata": {},
   "outputs": [
    {
     "name": "stdout",
     "output_type": "stream",
     "text": [
      "Stratified Sampling: Recall and Accuracy scores\n",
      "\n",
      "Recall: 0.9375\n",
      "Accuracy: 0.9590643274853801\n"
     ]
    }
   ],
   "source": [
    "print(\"Stratified Sampling: Recall and Accuracy scores\\n\")\n",
    "print(f\"Recall: {recall_str}\")\n",
    "print(f\"Accuracy: {accuracy_str}\")"
   ]
  },
  {
   "cell_type": "markdown",
   "id": "10e2e643-2c2b-4e8e-8b37-17eb357e3f0c",
   "metadata": {},
   "source": [
    "**Balanced Class Weights Model**"
   ]
  },
  {
   "cell_type": "code",
   "execution_count": 46,
   "id": "53ed5967-d478-4315-8889-6e2d6bd6de28",
   "metadata": {},
   "outputs": [
    {
     "name": "stdout",
     "output_type": "stream",
     "text": [
      "Balanced Class Weights: Recall and Accuracy scores\n",
      "\n",
      "Recall: 0.9206349206349206\n",
      "Accuracy: 0.9239766081871345\n"
     ]
    }
   ],
   "source": [
    "print(\"Balanced Class Weights: Recall and Accuracy scores\\n\")\n",
    "print(f\"Recall: {recall_balance}\")\n",
    "print(f\"Accuracy: {accuracy_balance}\")"
   ]
  },
  {
   "cell_type": "markdown",
   "id": "4779552a-e8bc-4ca4-85c7-3dd6b89728bd",
   "metadata": {},
   "source": [
    "## Implement K-Nearest Neighbors Classifier\n",
    "\n",
    "The initial logistic regression model performed reasonably well on the breast cancer dataset; however, it is worthwhile to explore additional algorithms to potentially achieve improved outcomes. A straightforward alternative to logistic regression is the k-nearest neighbor algorithm. The next steps will develop this model utilizing the KNN approach to compare its performance against that of the logistic regression model. Given that the data has already been prepared, the majority of the groundwork is complete. It is just a matter of simply need proceeding with training and testing the new model."
   ]
  },
  {
   "cell_type": "code",
   "execution_count": 47,
   "id": "4a5f34fa-bc3a-4579-9fc8-d72f89ce6981",
   "metadata": {},
   "outputs": [],
   "source": [
    "from math import sqrt\n",
    "\n",
    "from sklearn.neighbors import KNeighborsClassifier\n",
    "\n",
    "# Use bootstrapping to find the ideal K-value\n",
    "knum = round(sqrt(x_train.shape[0]))\n",
    "\n",
    "# If k is even make it odd\n",
    "if knum % 2 == 0:\n",
    "    knum += 1\n",
    "else:\n",
    "    knum\n",
    "\n",
    "# Train Model\n",
    "knnclassifier = KNeighborsClassifier(n_neighbors=knum)"
   ]
  },
  {
   "cell_type": "code",
   "execution_count": 48,
   "id": "22d239bb-dae9-4f12-a46f-283d2680bff1",
   "metadata": {},
   "outputs": [
    {
     "name": "stdout",
     "output_type": "stream",
     "text": [
      "Value of k: 21\n"
     ]
    }
   ],
   "source": [
    "print(\"Value of k: {}\".format(knum))"
   ]
  },
  {
   "cell_type": "markdown",
   "id": "a34c7693-a1d5-4cf0-9a06-b926d71b0c39",
   "metadata": {},
   "source": [
    "**Spotlights** \n",
    "\n",
    "- The bootstrapping technique yielded a k value of 21.\n",
    "- This model serves as an alternative to the logistic regression model developed in the previous code blocks. While both models are designed for binary classification, constructing multiple models allows for comparison to identify the most effective one.\n",
    "- In lines 8 to 12, the value of k is determined using a bootstrapping technique, which involves calculating the square root of the total number of training data examples. To prevent tie votes in the binary classification process, k is increased by 1 if it results in an even number.\n",
    "- The exploration of different models enhances the understanding of their performance, and the bootstrapping method for determining k contributes to the robustness of the classification process."
   ]
  },
  {
   "cell_type": "markdown",
   "id": "8fe2db82-8e9c-4eb5-9664-c589509aec6c",
   "metadata": {},
   "source": [
    "**Fit the Model**"
   ]
  },
  {
   "cell_type": "code",
   "execution_count": 49,
   "id": "e6b3ef26-0065-4bef-b682-c8951474e6e2",
   "metadata": {},
   "outputs": [],
   "source": [
    "# x_train = dataset, y_train = labels\n",
    "start = time()\n",
    "\n",
    "knnclassifier.fit(x_train, y_train)\n",
    "\n",
    "end = time()\n",
    "\n",
    "train_time = (end - start) * 1000"
   ]
  },
  {
   "cell_type": "markdown",
   "id": "eefec3a6-d840-478e-93b3-543b2aed33a8",
   "metadata": {},
   "source": [
    "**Make Predictions**"
   ]
  },
  {
   "cell_type": "code",
   "execution_count": 50,
   "id": "b94b751f-f4ef-4407-99e4-0e4d3c590b91",
   "metadata": {},
   "outputs": [],
   "source": [
    "# Make predictions on data\n",
    "results = x_test.copy()\n",
    "\n",
    "results[\"PredictedCancer\"] = knnclassifier.predict(x_test)\n",
    "\n",
    "results[\"ActualCancer\"] = y_test.copy()\n",
    "\n",
    "results[\"MalignantProbability\"] = np.round(\n",
    "    knnclassifier.predict_proba(x_test)[:, 0] * 100, 2\n",
    ")\n",
    "\n",
    "results[\"BenignProbability\"] = np.round(\n",
    "    knnclassifier.predict_proba(x_test)[:, 1] * 100, 2\n",
    ")"
   ]
  },
  {
   "cell_type": "markdown",
   "id": "132395b2-36c3-4f2d-bca5-73292466e546",
   "metadata": {},
   "source": [
    "**Examine Predictions**"
   ]
  },
  {
   "cell_type": "markdown",
   "id": "af34f9db-d2b2-445f-8600-21cb975987d1",
   "metadata": {},
   "source": [
    "**Examine Results Post Fit**"
   ]
  },
  {
   "cell_type": "code",
   "execution_count": 51,
   "id": "96dd8222-6150-4d61-8a40-fee5098b1c88",
   "metadata": {},
   "outputs": [
    {
     "data": {
      "text/html": [
       "<div>\n",
       "<style scoped>\n",
       "    .dataframe tbody tr th:only-of-type {\n",
       "        vertical-align: middle;\n",
       "    }\n",
       "\n",
       "    .dataframe tbody tr th {\n",
       "        vertical-align: top;\n",
       "    }\n",
       "\n",
       "    .dataframe thead th {\n",
       "        text-align: right;\n",
       "    }\n",
       "</style>\n",
       "<table border=\"1\" class=\"dataframe\">\n",
       "  <thead>\n",
       "    <tr style=\"text-align: right;\">\n",
       "      <th></th>\n",
       "      <th>radius_mean</th>\n",
       "      <th>texture_mean</th>\n",
       "      <th>perimeter_mean</th>\n",
       "      <th>area_mean</th>\n",
       "      <th>smoothness_mean</th>\n",
       "      <th>compactness_mean</th>\n",
       "      <th>concavity_mean</th>\n",
       "      <th>concave points_mean</th>\n",
       "      <th>symmetry_mean</th>\n",
       "      <th>fractal_dimension_mean</th>\n",
       "      <th>PredictedCancer</th>\n",
       "      <th>ActualCancer</th>\n",
       "      <th>MalignantProbability</th>\n",
       "      <th>BenignProbability</th>\n",
       "    </tr>\n",
       "  </thead>\n",
       "  <tbody>\n",
       "    <tr>\n",
       "      <th>512</th>\n",
       "      <td>13.400</td>\n",
       "      <td>20.52</td>\n",
       "      <td>88.64</td>\n",
       "      <td>556.7</td>\n",
       "      <td>0.11060</td>\n",
       "      <td>0.14690</td>\n",
       "      <td>0.14450</td>\n",
       "      <td>0.08172</td>\n",
       "      <td>0.2116</td>\n",
       "      <td>0.07325</td>\n",
       "      <td>0</td>\n",
       "      <td>1</td>\n",
       "      <td>80.95</td>\n",
       "      <td>19.05</td>\n",
       "    </tr>\n",
       "    <tr>\n",
       "      <th>457</th>\n",
       "      <td>13.210</td>\n",
       "      <td>25.25</td>\n",
       "      <td>84.10</td>\n",
       "      <td>537.9</td>\n",
       "      <td>0.08791</td>\n",
       "      <td>0.05205</td>\n",
       "      <td>0.02772</td>\n",
       "      <td>0.02068</td>\n",
       "      <td>0.1619</td>\n",
       "      <td>0.05584</td>\n",
       "      <td>0</td>\n",
       "      <td>0</td>\n",
       "      <td>76.19</td>\n",
       "      <td>23.81</td>\n",
       "    </tr>\n",
       "    <tr>\n",
       "      <th>439</th>\n",
       "      <td>14.020</td>\n",
       "      <td>15.66</td>\n",
       "      <td>89.59</td>\n",
       "      <td>606.5</td>\n",
       "      <td>0.07966</td>\n",
       "      <td>0.05581</td>\n",
       "      <td>0.02087</td>\n",
       "      <td>0.02652</td>\n",
       "      <td>0.1589</td>\n",
       "      <td>0.05586</td>\n",
       "      <td>0</td>\n",
       "      <td>0</td>\n",
       "      <td>71.43</td>\n",
       "      <td>28.57</td>\n",
       "    </tr>\n",
       "    <tr>\n",
       "      <th>298</th>\n",
       "      <td>14.260</td>\n",
       "      <td>18.17</td>\n",
       "      <td>91.22</td>\n",
       "      <td>633.1</td>\n",
       "      <td>0.06576</td>\n",
       "      <td>0.05220</td>\n",
       "      <td>0.02475</td>\n",
       "      <td>0.01374</td>\n",
       "      <td>0.1635</td>\n",
       "      <td>0.05586</td>\n",
       "      <td>0</td>\n",
       "      <td>0</td>\n",
       "      <td>57.14</td>\n",
       "      <td>42.86</td>\n",
       "    </tr>\n",
       "    <tr>\n",
       "      <th>37</th>\n",
       "      <td>13.030</td>\n",
       "      <td>18.42</td>\n",
       "      <td>82.61</td>\n",
       "      <td>523.8</td>\n",
       "      <td>0.08983</td>\n",
       "      <td>0.03766</td>\n",
       "      <td>0.02562</td>\n",
       "      <td>0.02923</td>\n",
       "      <td>0.1467</td>\n",
       "      <td>0.05863</td>\n",
       "      <td>0</td>\n",
       "      <td>0</td>\n",
       "      <td>80.95</td>\n",
       "      <td>19.05</td>\n",
       "    </tr>\n",
       "    <tr>\n",
       "      <th>515</th>\n",
       "      <td>11.340</td>\n",
       "      <td>18.61</td>\n",
       "      <td>72.76</td>\n",
       "      <td>391.2</td>\n",
       "      <td>0.10490</td>\n",
       "      <td>0.08499</td>\n",
       "      <td>0.04302</td>\n",
       "      <td>0.02594</td>\n",
       "      <td>0.1927</td>\n",
       "      <td>0.06211</td>\n",
       "      <td>0</td>\n",
       "      <td>0</td>\n",
       "      <td>95.24</td>\n",
       "      <td>4.76</td>\n",
       "    </tr>\n",
       "    <tr>\n",
       "      <th>382</th>\n",
       "      <td>12.050</td>\n",
       "      <td>22.72</td>\n",
       "      <td>78.75</td>\n",
       "      <td>447.8</td>\n",
       "      <td>0.06935</td>\n",
       "      <td>0.10730</td>\n",
       "      <td>0.07943</td>\n",
       "      <td>0.02978</td>\n",
       "      <td>0.1203</td>\n",
       "      <td>0.06659</td>\n",
       "      <td>0</td>\n",
       "      <td>0</td>\n",
       "      <td>100.00</td>\n",
       "      <td>0.00</td>\n",
       "    </tr>\n",
       "    <tr>\n",
       "      <th>310</th>\n",
       "      <td>11.700</td>\n",
       "      <td>19.11</td>\n",
       "      <td>74.33</td>\n",
       "      <td>418.7</td>\n",
       "      <td>0.08814</td>\n",
       "      <td>0.05253</td>\n",
       "      <td>0.01583</td>\n",
       "      <td>0.01148</td>\n",
       "      <td>0.1936</td>\n",
       "      <td>0.06128</td>\n",
       "      <td>0</td>\n",
       "      <td>0</td>\n",
       "      <td>95.24</td>\n",
       "      <td>4.76</td>\n",
       "    </tr>\n",
       "    <tr>\n",
       "      <th>538</th>\n",
       "      <td>7.729</td>\n",
       "      <td>25.49</td>\n",
       "      <td>47.98</td>\n",
       "      <td>178.8</td>\n",
       "      <td>0.08098</td>\n",
       "      <td>0.04878</td>\n",
       "      <td>0.00000</td>\n",
       "      <td>0.00000</td>\n",
       "      <td>0.1870</td>\n",
       "      <td>0.07285</td>\n",
       "      <td>0</td>\n",
       "      <td>0</td>\n",
       "      <td>100.00</td>\n",
       "      <td>0.00</td>\n",
       "    </tr>\n",
       "    <tr>\n",
       "      <th>345</th>\n",
       "      <td>10.260</td>\n",
       "      <td>14.71</td>\n",
       "      <td>66.20</td>\n",
       "      <td>321.6</td>\n",
       "      <td>0.09882</td>\n",
       "      <td>0.09159</td>\n",
       "      <td>0.03581</td>\n",
       "      <td>0.02037</td>\n",
       "      <td>0.1633</td>\n",
       "      <td>0.07005</td>\n",
       "      <td>0</td>\n",
       "      <td>0</td>\n",
       "      <td>100.00</td>\n",
       "      <td>0.00</td>\n",
       "    </tr>\n",
       "  </tbody>\n",
       "</table>\n",
       "</div>"
      ],
      "text/plain": [
       "     radius_mean  texture_mean  perimeter_mean  area_mean  smoothness_mean  \\\n",
       "512       13.400         20.52           88.64      556.7          0.11060   \n",
       "457       13.210         25.25           84.10      537.9          0.08791   \n",
       "439       14.020         15.66           89.59      606.5          0.07966   \n",
       "298       14.260         18.17           91.22      633.1          0.06576   \n",
       "37        13.030         18.42           82.61      523.8          0.08983   \n",
       "515       11.340         18.61           72.76      391.2          0.10490   \n",
       "382       12.050         22.72           78.75      447.8          0.06935   \n",
       "310       11.700         19.11           74.33      418.7          0.08814   \n",
       "538        7.729         25.49           47.98      178.8          0.08098   \n",
       "345       10.260         14.71           66.20      321.6          0.09882   \n",
       "\n",
       "     compactness_mean  concavity_mean  concave points_mean  symmetry_mean  \\\n",
       "512           0.14690         0.14450              0.08172         0.2116   \n",
       "457           0.05205         0.02772              0.02068         0.1619   \n",
       "439           0.05581         0.02087              0.02652         0.1589   \n",
       "298           0.05220         0.02475              0.01374         0.1635   \n",
       "37            0.03766         0.02562              0.02923         0.1467   \n",
       "515           0.08499         0.04302              0.02594         0.1927   \n",
       "382           0.10730         0.07943              0.02978         0.1203   \n",
       "310           0.05253         0.01583              0.01148         0.1936   \n",
       "538           0.04878         0.00000              0.00000         0.1870   \n",
       "345           0.09159         0.03581              0.02037         0.1633   \n",
       "\n",
       "     fractal_dimension_mean  PredictedCancer  ActualCancer  \\\n",
       "512                 0.07325                0             1   \n",
       "457                 0.05584                0             0   \n",
       "439                 0.05586                0             0   \n",
       "298                 0.05586                0             0   \n",
       "37                  0.05863                0             0   \n",
       "515                 0.06211                0             0   \n",
       "382                 0.06659                0             0   \n",
       "310                 0.06128                0             0   \n",
       "538                 0.07285                0             0   \n",
       "345                 0.07005                0             0   \n",
       "\n",
       "     MalignantProbability  BenignProbability  \n",
       "512                 80.95              19.05  \n",
       "457                 76.19              23.81  \n",
       "439                 71.43              28.57  \n",
       "298                 57.14              42.86  \n",
       "37                  80.95              19.05  \n",
       "515                 95.24               4.76  \n",
       "382                100.00               0.00  \n",
       "310                 95.24               4.76  \n",
       "538                100.00               0.00  \n",
       "345                100.00               0.00  "
      ]
     },
     "execution_count": 51,
     "metadata": {},
     "output_type": "execute_result"
    }
   ],
   "source": [
    "results.head(10)"
   ]
  },
  {
   "cell_type": "markdown",
   "id": "7329b5c0-1cae-42f1-95ac-f92a6e2d04b7",
   "metadata": {},
   "source": [
    "**Spotlights** \n",
    "The data presented follows the same structure as the previous logistic regression output; however, the predictions vary due to the application of a different model.\n",
    "\n",
    "It is important to understand that k-NN does not produce prediction probabilities in the manner that logistic regression does. Instead, the predict_proba() method provides the proportion of neighbors that supported each label. For instance, in the initial row of results, approximately 81% of the neighbors indicated a preference for the label **0** malignant with roughly 17 out of a total of 21 neighbors voting in favor."
   ]
  },
  {
   "cell_type": "markdown",
   "id": "0b240a86-da87-4f7d-b103-fcaf5115f00d",
   "metadata": {},
   "source": [
    "**Re-examine Data Shape for Reference**"
   ]
  },
  {
   "cell_type": "code",
   "execution_count": 52,
   "id": "55f55baf-428c-421b-8dc5-e500352f00b7",
   "metadata": {},
   "outputs": [
    {
     "name": "stdout",
     "output_type": "stream",
     "text": [
      "Original dataset:\n",
      " (569, 31)\n",
      "-------------------------------\n",
      "Training features: \n",
      "(398, 10)\n",
      "Testing features: \n",
      "(171, 10)\n",
      "Training labels: \n",
      "(398,)\n",
      "Testing labels: \n",
      "(171,)\n"
     ]
    }
   ],
   "source": [
    "print(f\"Original dataset:\\n {df.shape}\")\n",
    "print(\"-------------------------------\")\n",
    "print(f\"Training features: \\n{x_train.shape}\")\n",
    "print(f\"Testing features: \\n{x_test.shape}\")\n",
    "print(f\"Training labels: \\n{y_train.shape}\")\n",
    "print(f\"Testing labels: \\n{y_test.shape}\")"
   ]
  },
  {
   "cell_type": "markdown",
   "id": "2ac4596a-6f50-4c4d-a841-38b3fb584e0b",
   "metadata": {},
   "source": [
    "**Make Predictions On Unseen Data**"
   ]
  },
  {
   "cell_type": "code",
   "execution_count": 53,
   "id": "fbf53445-948f-473c-8665-01144431ebcf",
   "metadata": {},
   "outputs": [
    {
     "data": {
      "text/html": [
       "<div>\n",
       "<style scoped>\n",
       "    .dataframe tbody tr th:only-of-type {\n",
       "        vertical-align: middle;\n",
       "    }\n",
       "\n",
       "    .dataframe tbody tr th {\n",
       "        vertical-align: top;\n",
       "    }\n",
       "\n",
       "    .dataframe thead th {\n",
       "        text-align: right;\n",
       "    }\n",
       "</style>\n",
       "<table border=\"1\" class=\"dataframe\">\n",
       "  <thead>\n",
       "    <tr style=\"text-align: right;\">\n",
       "      <th></th>\n",
       "      <th>radius_mean</th>\n",
       "      <th>texture_mean</th>\n",
       "      <th>perimeter_mean</th>\n",
       "      <th>area_mean</th>\n",
       "      <th>smoothness_mean</th>\n",
       "      <th>compactness_mean</th>\n",
       "      <th>concavity_mean</th>\n",
       "      <th>concave points_mean</th>\n",
       "      <th>symmetry_mean</th>\n",
       "      <th>fractal_dimension_mean</th>\n",
       "      <th>PredictedCancer</th>\n",
       "      <th>ActualCancer</th>\n",
       "      <th>MalignantProbability</th>\n",
       "      <th>BenignProbability</th>\n",
       "    </tr>\n",
       "  </thead>\n",
       "  <tbody>\n",
       "    <tr>\n",
       "      <th>478</th>\n",
       "      <td>11.490</td>\n",
       "      <td>14.59</td>\n",
       "      <td>73.99</td>\n",
       "      <td>404.9</td>\n",
       "      <td>0.10460</td>\n",
       "      <td>0.08228</td>\n",
       "      <td>0.053080</td>\n",
       "      <td>0.019690</td>\n",
       "      <td>0.1779</td>\n",
       "      <td>0.06574</td>\n",
       "      <td>0</td>\n",
       "      <td>0</td>\n",
       "      <td>100.00</td>\n",
       "      <td>0.00</td>\n",
       "    </tr>\n",
       "    <tr>\n",
       "      <th>303</th>\n",
       "      <td>10.490</td>\n",
       "      <td>18.61</td>\n",
       "      <td>66.86</td>\n",
       "      <td>334.3</td>\n",
       "      <td>0.10680</td>\n",
       "      <td>0.06678</td>\n",
       "      <td>0.022970</td>\n",
       "      <td>0.017800</td>\n",
       "      <td>0.1482</td>\n",
       "      <td>0.06600</td>\n",
       "      <td>0</td>\n",
       "      <td>0</td>\n",
       "      <td>100.00</td>\n",
       "      <td>0.00</td>\n",
       "    </tr>\n",
       "    <tr>\n",
       "      <th>155</th>\n",
       "      <td>12.250</td>\n",
       "      <td>17.94</td>\n",
       "      <td>78.27</td>\n",
       "      <td>460.3</td>\n",
       "      <td>0.08654</td>\n",
       "      <td>0.06679</td>\n",
       "      <td>0.038850</td>\n",
       "      <td>0.023310</td>\n",
       "      <td>0.1970</td>\n",
       "      <td>0.06228</td>\n",
       "      <td>0</td>\n",
       "      <td>0</td>\n",
       "      <td>100.00</td>\n",
       "      <td>0.00</td>\n",
       "    </tr>\n",
       "    <tr>\n",
       "      <th>186</th>\n",
       "      <td>18.310</td>\n",
       "      <td>18.58</td>\n",
       "      <td>118.60</td>\n",
       "      <td>1041.0</td>\n",
       "      <td>0.08588</td>\n",
       "      <td>0.08468</td>\n",
       "      <td>0.081690</td>\n",
       "      <td>0.058140</td>\n",
       "      <td>0.1621</td>\n",
       "      <td>0.05425</td>\n",
       "      <td>1</td>\n",
       "      <td>1</td>\n",
       "      <td>4.76</td>\n",
       "      <td>95.24</td>\n",
       "    </tr>\n",
       "    <tr>\n",
       "      <th>101</th>\n",
       "      <td>6.981</td>\n",
       "      <td>13.43</td>\n",
       "      <td>43.79</td>\n",
       "      <td>143.5</td>\n",
       "      <td>0.11700</td>\n",
       "      <td>0.07568</td>\n",
       "      <td>0.000000</td>\n",
       "      <td>0.000000</td>\n",
       "      <td>0.1930</td>\n",
       "      <td>0.07818</td>\n",
       "      <td>0</td>\n",
       "      <td>0</td>\n",
       "      <td>100.00</td>\n",
       "      <td>0.00</td>\n",
       "    </tr>\n",
       "    <tr>\n",
       "      <th>97</th>\n",
       "      <td>9.787</td>\n",
       "      <td>19.94</td>\n",
       "      <td>62.11</td>\n",
       "      <td>294.5</td>\n",
       "      <td>0.10240</td>\n",
       "      <td>0.05301</td>\n",
       "      <td>0.006829</td>\n",
       "      <td>0.007937</td>\n",
       "      <td>0.1350</td>\n",
       "      <td>0.06890</td>\n",
       "      <td>0</td>\n",
       "      <td>0</td>\n",
       "      <td>100.00</td>\n",
       "      <td>0.00</td>\n",
       "    </tr>\n",
       "    <tr>\n",
       "      <th>20</th>\n",
       "      <td>13.080</td>\n",
       "      <td>15.71</td>\n",
       "      <td>85.63</td>\n",
       "      <td>520.0</td>\n",
       "      <td>0.10750</td>\n",
       "      <td>0.12700</td>\n",
       "      <td>0.045680</td>\n",
       "      <td>0.031100</td>\n",
       "      <td>0.1967</td>\n",
       "      <td>0.06811</td>\n",
       "      <td>0</td>\n",
       "      <td>0</td>\n",
       "      <td>85.71</td>\n",
       "      <td>14.29</td>\n",
       "    </tr>\n",
       "    <tr>\n",
       "      <th>153</th>\n",
       "      <td>11.150</td>\n",
       "      <td>13.08</td>\n",
       "      <td>70.87</td>\n",
       "      <td>381.9</td>\n",
       "      <td>0.09754</td>\n",
       "      <td>0.05113</td>\n",
       "      <td>0.019820</td>\n",
       "      <td>0.017860</td>\n",
       "      <td>0.1830</td>\n",
       "      <td>0.06105</td>\n",
       "      <td>0</td>\n",
       "      <td>0</td>\n",
       "      <td>90.48</td>\n",
       "      <td>9.52</td>\n",
       "    </tr>\n",
       "    <tr>\n",
       "      <th>54</th>\n",
       "      <td>15.100</td>\n",
       "      <td>22.02</td>\n",
       "      <td>97.26</td>\n",
       "      <td>712.8</td>\n",
       "      <td>0.09056</td>\n",
       "      <td>0.07081</td>\n",
       "      <td>0.052530</td>\n",
       "      <td>0.033340</td>\n",
       "      <td>0.1616</td>\n",
       "      <td>0.05684</td>\n",
       "      <td>1</td>\n",
       "      <td>1</td>\n",
       "      <td>42.86</td>\n",
       "      <td>57.14</td>\n",
       "    </tr>\n",
       "    <tr>\n",
       "      <th>30</th>\n",
       "      <td>18.630</td>\n",
       "      <td>25.11</td>\n",
       "      <td>124.80</td>\n",
       "      <td>1088.0</td>\n",
       "      <td>0.10640</td>\n",
       "      <td>0.18870</td>\n",
       "      <td>0.231900</td>\n",
       "      <td>0.124400</td>\n",
       "      <td>0.2183</td>\n",
       "      <td>0.06197</td>\n",
       "      <td>1</td>\n",
       "      <td>1</td>\n",
       "      <td>0.00</td>\n",
       "      <td>100.00</td>\n",
       "    </tr>\n",
       "  </tbody>\n",
       "</table>\n",
       "</div>"
      ],
      "text/plain": [
       "     radius_mean  texture_mean  perimeter_mean  area_mean  smoothness_mean  \\\n",
       "478       11.490         14.59           73.99      404.9          0.10460   \n",
       "303       10.490         18.61           66.86      334.3          0.10680   \n",
       "155       12.250         17.94           78.27      460.3          0.08654   \n",
       "186       18.310         18.58          118.60     1041.0          0.08588   \n",
       "101        6.981         13.43           43.79      143.5          0.11700   \n",
       "97         9.787         19.94           62.11      294.5          0.10240   \n",
       "20        13.080         15.71           85.63      520.0          0.10750   \n",
       "153       11.150         13.08           70.87      381.9          0.09754   \n",
       "54        15.100         22.02           97.26      712.8          0.09056   \n",
       "30        18.630         25.11          124.80     1088.0          0.10640   \n",
       "\n",
       "     compactness_mean  concavity_mean  concave points_mean  symmetry_mean  \\\n",
       "478           0.08228        0.053080             0.019690         0.1779   \n",
       "303           0.06678        0.022970             0.017800         0.1482   \n",
       "155           0.06679        0.038850             0.023310         0.1970   \n",
       "186           0.08468        0.081690             0.058140         0.1621   \n",
       "101           0.07568        0.000000             0.000000         0.1930   \n",
       "97            0.05301        0.006829             0.007937         0.1350   \n",
       "20            0.12700        0.045680             0.031100         0.1967   \n",
       "153           0.05113        0.019820             0.017860         0.1830   \n",
       "54            0.07081        0.052530             0.033340         0.1616   \n",
       "30            0.18870        0.231900             0.124400         0.2183   \n",
       "\n",
       "     fractal_dimension_mean  PredictedCancer  ActualCancer  \\\n",
       "478                 0.06574                0             0   \n",
       "303                 0.06600                0             0   \n",
       "155                 0.06228                0             0   \n",
       "186                 0.05425                1             1   \n",
       "101                 0.07818                0             0   \n",
       "97                  0.06890                0             0   \n",
       "20                  0.06811                0             0   \n",
       "153                 0.06105                0             0   \n",
       "54                  0.05684                1             1   \n",
       "30                  0.06197                1             1   \n",
       "\n",
       "     MalignantProbability  BenignProbability  \n",
       "478                100.00               0.00  \n",
       "303                100.00               0.00  \n",
       "155                100.00               0.00  \n",
       "186                  4.76              95.24  \n",
       "101                100.00               0.00  \n",
       "97                 100.00               0.00  \n",
       "20                  85.71              14.29  \n",
       "153                 90.48               9.52  \n",
       "54                  42.86              57.14  \n",
       "30                   0.00             100.00  "
      ]
     },
     "execution_count": 53,
     "metadata": {},
     "output_type": "execute_result"
    }
   ],
   "source": [
    "# Make predictions on data\n",
    "y_prediction_knn = knnclassifier.predict(x_train)\n",
    "\n",
    "results_train = x_train.copy()\n",
    "\n",
    "results_train[\"PredictedCancer\"] = y_prediction_knn\n",
    "results_train[\"ActualCancer\"] = y_train.copy()\n",
    "\n",
    "results_train[\"MalignantProbability\"] = np.round(\n",
    "    knnclassifier.predict_proba(x_train)[:, 0] * 100, 2\n",
    ")\n",
    "\n",
    "results_train[\"BenignProbability\"] = np.round(\n",
    "    knnclassifier.predict_proba(x_train)[:, 1] * 100, 2\n",
    ")\n",
    "\n",
    "results_train.head(10)"
   ]
  },
  {
   "cell_type": "markdown",
   "id": "8d0d5aff-35fe-4661-8d34-bb897f625723",
   "metadata": {},
   "source": [
    "## Compute Accuracy, Precision, Recall, F<sub>1</sub>"
   ]
  },
  {
   "cell_type": "code",
   "execution_count": 54,
   "id": "adcdfbfd-f595-4eaf-aea2-1b7e2147fb2e",
   "metadata": {},
   "outputs": [
    {
     "name": "stdout",
     "output_type": "stream",
     "text": [
      "\n",
      "Test set accuracy:0.8793969849246231\n",
      "\n",
      "Test set precision:0.9243697478991597\n",
      "\n",
      "Test set recall:0.738255033557047\n",
      "\n",
      "Test set f1-score:0.8208955223880597\n",
      "\n"
     ]
    }
   ],
   "source": [
    "accuracy = accuracy_score(y_train, y_prediction_knn)\n",
    "\n",
    "precision = precision_score(y_train, y_prediction_knn)\n",
    "\n",
    "recall = recall_score(y_train, y_prediction_knn)\n",
    "\n",
    "f1 = f1_score(y_train, y_prediction_knn)\n",
    "\n",
    "# Print scores\n",
    "print(f\"\\nTest set accuracy:{accuracy}\\n\")\n",
    "print(f\"Test set precision:{precision}\\n\")\n",
    "print(f\"Test set recall:{recall}\\n\")\n",
    "print(f\"Test set f1-score:{f1}\\n\")"
   ]
  },
  {
   "cell_type": "markdown",
   "id": "c6d31133-8cf1-415c-aba1-f391dfe250ee",
   "metadata": {},
   "source": [
    "**Score the KNN Model**"
   ]
  },
  {
   "cell_type": "code",
   "execution_count": 55,
   "id": "ff16d390-d4f4-44a1-8998-c185d9de7720",
   "metadata": {},
   "outputs": [
    {
     "name": "stdout",
     "output_type": "stream",
     "text": [
      "Value of k: 21\n",
      "KNN model took: 10.23 milliseconds to fit\n",
      "KNN Score on test set: 92%\n"
     ]
    }
   ],
   "source": [
    "knnscore = knnclassifier.score(x_test, y_test)\n",
    "\n",
    "print(\"Value of k: {}\".format(knum))\n",
    "print(\"KNN model took: {:.2f} milliseconds to fit\".format(train_time))\n",
    "print(\"KNN Score on test set: {:.0f}%\".format(knnscore * 100))"
   ]
  },
  {
   "cell_type": "markdown",
   "id": "5cb2b4d3-7665-4892-82bd-ecfc752ea617",
   "metadata": {},
   "source": [
    "**Spotlights** \n",
    "\n",
    "- The KNN classification model consistently underperformed compared to the logistic regression model across all evaluated metrics.\n",
    "- The k-nearest neighbor model achieved a score o 92%, which is slightly inferior to the performance of the logistic regression model at 94%; therefore, the logistic regression model will be prioritized for further evaluation and tuning.\n",
    "- Nonetheless, it could be valuable to explore the differences in results between the two models."
   ]
  },
  {
   "cell_type": "markdown",
   "id": "0edbd3f9-6bba-4a6f-94af-b6a680bda57f",
   "metadata": {},
   "source": [
    "## Fit Logistic Regression Using Grid Search\n",
    "\n",
    "Given that the cross-validation (cv) is set to 5, the grid search will perform 5-fold cross-validation for every combination. This means that the model will be trained a total of 12 × 5 = 60 times."
   ]
  },
  {
   "cell_type": "code",
   "execution_count": 56,
   "id": "64fba021-2607-41fb-bf17-4ca6233d034c",
   "metadata": {},
   "outputs": [],
   "source": [
    "from sklearn.model_selection import GridSearchCV"
   ]
  },
  {
   "cell_type": "code",
   "execution_count": 57,
   "id": "80a47f0b-69ac-4be0-907d-286d10d9745c",
   "metadata": {},
   "outputs": [
    {
     "name": "stdout",
     "output_type": "stream",
     "text": [
      "{'C': 100, 'penalty': 'l1', 'solver': 'liblinear'}\n"
     ]
    }
   ],
   "source": [
    "logistic_regression_gridsearch = LogisticRegression(random_state=1912)\n",
    "\n",
    "# Create a parameter grid\n",
    "grid = [\n",
    "    {\n",
    "        \"solver\": [\"liblinear\"],\n",
    "        \"penalty\": [\"l1\", \"l2\"],\n",
    "        \"C\": [0.001, 0.01, 0.1, 1, 5, 10, 25, 50, 100],\n",
    "    },\n",
    "    {\n",
    "        \"solver\": [\"sag\"],\n",
    "        \"penalty\": [\"l2\"],\n",
    "        \"C\": [0.001, 0.01, 0.1, 1, 5, 10, 25, 50, 100],\n",
    "        \"max_iter\": [10000],\n",
    "    },\n",
    "]\n",
    "\n",
    "\n",
    "search = GridSearchCV(\n",
    "    logistic_regression_gridsearch, param_grid=grid, scoring=\"f1\", cv=5\n",
    ")\n",
    "\n",
    "# Fit the model\n",
    "search.fit(x_train, y_train)\n",
    "print(search.best_params_)"
   ]
  },
  {
   "cell_type": "markdown",
   "id": "e006658f-1e36-435d-a529-d20ac8f1ef22",
   "metadata": {},
   "source": []
  },
  {
   "cell_type": "markdown",
   "id": "bb21d7d6-03c1-418c-8cb2-b8519d10c8b8",
   "metadata": {},
   "source": [
    "## Evaluate the Optimized Model"
   ]
  },
  {
   "cell_type": "code",
   "execution_count": 58,
   "id": "884d1447-8855-4fcd-9b03-155a33a19b5f",
   "metadata": {},
   "outputs": [
    {
     "name": "stdout",
     "output_type": "stream",
     "text": [
      "[[105   3]\n",
      " [  6  57]]\n"
     ]
    }
   ],
   "source": [
    "search_predictions = search.predict(x_test)\n",
    "\n",
    "search_confusion_matrix = confusion_matrix(y_test, search_predictions)\n",
    "print(search_confusion_matrix)"
   ]
  },
  {
   "cell_type": "markdown",
   "id": "1ae7911b-91b5-490e-a764-95ab301bb8ee",
   "metadata": {},
   "source": [
    "**Graph Search Confusion Matrix**"
   ]
  },
  {
   "cell_type": "code",
   "execution_count": 59,
   "id": "ea3f3301-405f-4947-9628-140f4c6b6738",
   "metadata": {},
   "outputs": [
    {
     "data": {
      "image/png": "[encoded data removed]",
      "text/plain": [
       "<Figure size 640x480 with 2 Axes>"
      ]
     },
     "metadata": {},
     "output_type": "display_data"
    }
   ],
   "source": [
    "graph_confusion_matrix(y_test, search_predictions, \"rocket\")"
   ]
  },
  {
   "cell_type": "markdown",
   "id": "f6269ba9-26e2-4d3d-aad8-7decbc3e61c4",
   "metadata": {},
   "source": [
    "**Spotlights** \n",
    "\n",
    "Initial LR Model Confusion Matrix Results \n",
    "\n",
    "```\n",
    "Confusion Matrix: Threshold 50%\n",
    "[[105   3]\n",
    " [  7  56]]\n",
    "```"
   ]
  },
  {
   "cell_type": "markdown",
   "id": "a73b7795-20f3-4d5c-a9f7-63e2f1ef04a8",
   "metadata": {},
   "source": [
    "The performance of optimized model is inferior to that of non-optimized logistic regression model. There is a decline in True Positives and a rise in False Negatives. This outcome is certainly counterproductive, despite the small numerical difference, as the objective is to minimize the misclassification of malignant cells as benign."
   ]
  }
 ],
 "metadata": {
  "kernelspec": {
   "display_name": "Python 3 (ipykernel)",
   "language": "python",
   "name": "python3"
  },
  "language_info": {
   "codemirror_mode": {
    "name": "ipython",
    "version": 3
   },
   "file_extension": ".py",
   "mimetype": "text/x-python",
   "name": "python",
   "nbconvert_exporter": "python",
   "pygments_lexer": "ipython3",
   "version": "3.9.20"
  }
 },
 "nbformat": 4,
 "nbformat_minor": 5
}
