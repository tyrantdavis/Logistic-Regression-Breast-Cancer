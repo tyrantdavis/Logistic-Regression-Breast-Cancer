{
 "cells": [
  {
   "cell_type": "markdown",
   "id": "0a527906-e2a5-4a14-8b81-ed000ae2ce32",
   "metadata": {},
   "source": [
    "# Logistic-Regression-Breast-Cancer"
   ]
  },
  {
   "cell_type": "markdown",
   "id": "c9e3695b-62c8-4bfd-9a51-2f9ba59a56e6",
   "metadata": {},
   "source": [
    "## Import Software Libraries"
   ]
  },
  {
   "cell_type": "code",
   "execution_count": 1,
   "id": "3f17d8df-71c6-4350-8f6f-5a7f7858f000",
   "metadata": {},
   "outputs": [
    {
     "name": "stdout",
     "output_type": "stream",
     "text": [
      "Libraries used in this project:\n",
      "- NumPy 1.24.3\n",
      "- pandas 2.0.3\n",
      "- Matplotlib 3.7.2\n",
      "- Seaborn 0.9.0\n",
      "\n",
      "Summary of software packages complete.\n",
      "\n"
     ]
    }
   ],
   "source": [
    "import sys  # Read system parameters.\n",
    "\n",
    "import matplotlib  # Create charts.\n",
    "import matplotlib.pyplot as plt\n",
    "import numpy as np  # Work with multi-dimensional arrays and matrices.\n",
    "import pandas as pd  # Manipulate and analyze data frames.\n",
    "import seaborn as sns  # Streamline charting.\n",
    "import sklearn  # Perform feature engineering and machine learning.\n",
    "from sklearn import datasets  # ML datasets\n",
    "from sklearn.linear_model import LogisticRegression\n",
    "from sklearn.metrics import (\n",
    "    accuracy_score,\n",
    "    classification_report,\n",
    "    confusion_matrix,\n",
    "    f1_score,\n",
    "    precision_score,\n",
    "    recall_score,\n",
    ")\n",
    "from sklearn.model_selection import train_test_split\n",
    "from sklearn.dummy import DummyClassifier\n",
    "from sklearn.metrics import roc_curve, roc_auc_score\n",
    "# Summarize software libraries used.\n",
    "print(\"Libraries used in this project:\")\n",
    "print(\"- NumPy {}\".format(np.__version__))\n",
    "print(\"- pandas {}\".format(pd.__version__))\n",
    "# print(\"- scikit-learn {}\".format(sklearn.__version__))\n",
    "print(\"- Matplotlib {}\".format(matplotlib.__version__))\n",
    "print(\"- Seaborn {}\".format(sns.__version__))\n",
    "# print(\"- Python {}\\n\".format(sys.version))\n",
    "print(\"\\nSummary of software packages complete.\\n\")"
   ]
  }
 ],
 "metadata": {
  "kernelspec": {
   "display_name": "Python 3 (ipykernel)",
   "language": "python",
   "name": "python3"
  },
  "language_info": {
   "codemirror_mode": {
    "name": "ipython",
    "version": 3
   },
   "file_extension": ".py",
   "mimetype": "text/x-python",
   "name": "python",
   "nbconvert_exporter": "python",
   "pygments_lexer": "ipython3",
   "version": "3.8.18"
  }
 },
 "nbformat": 4,
 "nbformat_minor": 5
}
